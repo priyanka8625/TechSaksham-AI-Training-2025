{
 "cells": [
  {
   "cell_type": "markdown",
   "id": "485a6653-7a4c-419d-93c3-5819a8b28e16",
   "metadata": {},
   "source": [
    "## Basic Class Programs"
   ]
  },
  {
   "cell_type": "code",
   "execution_count": 1,
   "id": "d55f8eed-a37a-463b-991b-295640743519",
   "metadata": {},
   "outputs": [
    {
     "name": "stdout",
     "output_type": "stream",
     "text": [
      "Toyota 2005\n"
     ]
    }
   ],
   "source": [
    "class car:\n",
    "    def __init__(self, modelname, year):\n",
    "        self.modelname = modelname\n",
    "        self.year = year\n",
    "    def display(self):\n",
    "        print(self.modelname, self.year)\n",
    "\n",
    "c1 = car(\"Toyota\", 2005)\n",
    "c1.display()"
   ]
  },
  {
   "cell_type": "code",
   "execution_count": 5,
   "id": "7d3261a4-004b-4083-b564-ac87f77c4f94",
   "metadata": {},
   "outputs": [
    {
     "name": "stdout",
     "output_type": "stream",
     "text": [
      "-------VEHICLE DETAILS----------\n",
      "--------------------------------\n",
      "MAKE:  Toyota\n",
      "MODEL:  abc\n",
      "YEAR:  2005\n",
      "\n",
      "Manufacturing year updated!..\n",
      "\n",
      "-------VEHICLE DETAILS----------\n",
      "--------------------------------\n",
      "MAKE:  Toyota\n",
      "MODEL:  abc\n",
      "YEAR:  2025\n"
     ]
    }
   ],
   "source": [
    "class Vehicle:\n",
    "    def __init__(self, make, model, year):\n",
    "        self.make = make\n",
    "        self.model = model\n",
    "        self.year = year\n",
    "    def display(self):\n",
    "        print(\"-------VEHICLE DETAILS----------\")\n",
    "        print(\"--------------------------------\")\n",
    "        print(\"MAKE: \", self.make)\n",
    "        print(\"MODEL: \", self.model)\n",
    "        print(\"YEAR: \", self.year)\n",
    "    def update_year(self, year):\n",
    "        self.year = year\n",
    "        print(\"\\nManufacturing year updated!..\\n\")\n",
    "\n",
    "vehicle = Vehicle(\"Toyota\", \"abc\", 2005)\n",
    "vehicle.display()\n",
    "vehicle.update_year(2025)\n",
    "vehicle.display()"
   ]
  },
  {
   "cell_type": "code",
   "execution_count": 7,
   "id": "51c7197e-034b-47e5-854c-0653d755607d",
   "metadata": {},
   "outputs": [
    {
     "name": "stdout",
     "output_type": "stream",
     "text": [
      "------------ LIBRARY BOOKS ------------\n",
      "---------------------------------------\n",
      "['book1', 'book2', 'book3']\n",
      "------------ LIBRARY BOOKS ------------\n",
      "---------------------------------------\n",
      "['book1', 'book3']\n"
     ]
    }
   ],
   "source": [
    "class library:\n",
    "    def __init__(self):\n",
    "        self.books = []\n",
    "    def add_book(self, book):\n",
    "        self.books.append(book)\n",
    "    def remove_book(self, book):\n",
    "        self.books.remove(book)\n",
    "    def list_books(self):\n",
    "        print(\"------------ LIBRARY BOOKS ------------\")\n",
    "        print(\"---------------------------------------\")\n",
    "        print(self.books)\n",
    "\n",
    "lib = library()\n",
    "lib.add_book(\"book1\")\n",
    "lib.add_book(\"book2\")\n",
    "lib.add_book(\"book3\")\n",
    "lib.list_books()\n",
    "lib.remove_book(\"book2\")\n",
    "lib.list_books()"
   ]
  },
  {
   "cell_type": "markdown",
   "id": "7613c068-9847-496a-a7da-c607dc1a2999",
   "metadata": {},
   "source": [
    "## creating a class with class and instance attributes"
   ]
  },
  {
   "cell_type": "code",
   "execution_count": 12,
   "id": "84d001f2-3763-4e0d-9396-9c6f516e5ecd",
   "metadata": {},
   "outputs": [
    {
     "name": "stdout",
     "output_type": "stream",
     "text": [
      "mammal\n",
      "mammal\n",
      "Rodger\n"
     ]
    }
   ],
   "source": [
    "class Dog:\n",
    "    #class attribute\n",
    "    attr1 = \"mammal\"\n",
    "    #instance attribute\n",
    "    def __init__(self, name):\n",
    "        self.name = name\n",
    "# Driver code\n",
    "# Object instantiation\n",
    "Rodger = Dog(\"Rodger\")\n",
    "Tommy = Dog(\"Tommy\")\n",
    "print(Dog.attr1)\n",
    "print(Tommy.__class__.attr1)\n",
    "print(Rodger.name)"
   ]
  },
  {
   "cell_type": "markdown",
   "id": "3372e0af-1ba6-4513-942e-baee9dcf995a",
   "metadata": {},
   "source": [
    "## Creating classes and objects with methods"
   ]
  },
  {
   "cell_type": "code",
   "execution_count": 17,
   "id": "0f1e8f35-ffb9-4138-8fe9-aebc8868f33e",
   "metadata": {},
   "outputs": [
    {
     "name": "stdout",
     "output_type": "stream",
     "text": [
      "My name is:  Rodger\n",
      "My name is:  Tommy\n"
     ]
    }
   ],
   "source": [
    "class Dog:\n",
    "    #class attribute\n",
    "    attr1 = \"mammal\"\n",
    "    #instance attribute\n",
    "    def __init__(self, name):\n",
    "        self.name = name\n",
    "    def speak(self):\n",
    "        print(\"My name is: \", self.name)\n",
    "# Driver code\n",
    "# Object instantiation\n",
    "Rodger = Dog(\"Rodger\")\n",
    "Tommy = Dog(\"Tommy\")\n",
    "Rodger.speak()\n",
    "Tommy.speak()"
   ]
  },
  {
   "cell_type": "markdown",
   "id": "5f56b85c-2b8a-4a7e-875a-9d84ee2d007d",
   "metadata": {},
   "source": [
    "## return even number in a list"
   ]
  },
  {
   "cell_type": "code",
   "execution_count": 24,
   "id": "0ea54d43-a1f6-4e5e-89e2-56f35fb8c15c",
   "metadata": {},
   "outputs": [
    {
     "name": "stdin",
     "output_type": "stream",
     "text": [
      "Enter n: 5\n",
      " 12\n",
      " 2\n",
      " 3\n",
      " 4\n",
      " 5\n"
     ]
    },
    {
     "name": "stdout",
     "output_type": "stream",
     "text": [
      "Even numbers are:  [12, 2, 4]\n"
     ]
    }
   ],
   "source": [
    "class even:\n",
    "    def check_even_list(self, my_list):\n",
    "        even_numbers = []\n",
    "        for num in my_list:\n",
    "            if num%2 == 0:\n",
    "                even_numbers.append(num)\n",
    "        return even_numbers\n",
    "    def display(self, my_list):\n",
    "        print(\"Even numbers are: \", my_list)\n",
    "\n",
    "n = int(input(\"Enter n:\"))\n",
    "my_list = []\n",
    "for i in range(0, n):\n",
    "    my_list.append(int(input()))\n",
    "\n",
    "e = even()\n",
    "even_list = e.check_even_list(my_list)\n",
    "e.display(even_list)"
   ]
  },
  {
   "cell_type": "markdown",
   "id": "cdb56bf8-e677-426c-b9f9-9853a4262b46",
   "metadata": {},
   "source": [
    "# inheritance"
   ]
  },
  {
   "cell_type": "markdown",
   "id": "bb015f95-ca1e-4b17-8bc9-a6f27b679cbf",
   "metadata": {},
   "source": [
    "## How parent contructors are called"
   ]
  },
  {
   "cell_type": "code",
   "execution_count": 36,
   "id": "493aa0f1-b1fa-4a5c-b721-d1e17766de23",
   "metadata": {},
   "outputs": [
    {
     "name": "stdout",
     "output_type": "stream",
     "text": [
      "Priyanka\n",
      "886102\n",
      "My name is:  Priyanka\n",
      "Idnumber:  886102\n",
      "Post :  Intern\n"
     ]
    }
   ],
   "source": [
    "class Person(object):\n",
    "    # __init__ is the contructor\n",
    "    def __init__(self, name, idnum):\n",
    "        self.name = name\n",
    "        self.idnum = idnum\n",
    "    def display(self):\n",
    "        print(self.name)\n",
    "        print(self.idnum)\n",
    "    def details(self):\n",
    "        print(\"My name is: \", self.name)\n",
    "        print(\"Idnumber is: \", self.idnum)\n",
    "\n",
    "class Employee(Person):\n",
    "    def __init__(self, name, idnum, salary, post):\n",
    "        self.salary = salary\n",
    "        self.post = post\n",
    "        #invoking the __init__ of the parent class\n",
    "        Person.__init__(self, name, idnum)\n",
    "    def details(self):\n",
    "        print(\"My name is: \", self.name)\n",
    "        print(\"Idnumber: \", self.idnum)\n",
    "        print(\"Post : \", self.post)\n",
    "\n",
    "#creation of object variables or an instance\n",
    "a = Employee('Priyanka', 886102, 2000000, \"Intern\")\n",
    "#calling a function of the class Person using it's instance\n",
    "a.display()\n",
    "a.details()"
   ]
  },
  {
   "cell_type": "markdown",
   "id": "db646d0e-6049-4e25-8e70-1946697524cf",
   "metadata": {},
   "source": [
    "## Example of Inheritance"
   ]
  },
  {
   "cell_type": "code",
   "execution_count": 45,
   "id": "b5ec279b-7087-4d13-b7fe-383542414974",
   "metadata": {},
   "outputs": [
    {
     "name": "stdout",
     "output_type": "stream",
     "text": [
      "Child name:  Priyanka\n",
      "Dad name Kalidas\n",
      "Mom name:  Anita\n"
     ]
    }
   ],
   "source": [
    "class Dad:\n",
    "    def __init__(self, dad_name):\n",
    "        self.dad_name = dad_name\n",
    "    def display_dad(self):\n",
    "        print(\"Dad name\", self.dad_name)\n",
    "class Mom:\n",
    "    def __init__(self, mom_name):\n",
    "        self.mom_name = mom_name\n",
    "    def display_mom(self):\n",
    "        print(\"Mom name: \", self.mom_name)\n",
    "class Child(Dad, Mom):\n",
    "    def __init__(self, dad_name, mom_name, child_name):\n",
    "        self.child_name = child_name\n",
    "        #call parent contructors\n",
    "        Dad.__init__(self, dad_name)\n",
    "        Mom.__init__(self, mom_name)\n",
    "    def display_child(self):\n",
    "        print(\"Child name: \",self.child_name)\n",
    "        self.display_dad()\n",
    "        self.display_mom()\n",
    "\n",
    "child = Child(\"Kalidas\", \"Anita\", \"Priyanka\")\n",
    "child.display_child()"
   ]
  },
  {
   "cell_type": "code",
   "execution_count": null,
   "id": "93d9f882-18ed-4712-9be9-ae2ea1e7a3c7",
   "metadata": {},
   "outputs": [],
   "source": []
  }
 ],
 "metadata": {
  "kernelspec": {
   "display_name": "Python [conda env:base] *",
   "language": "python",
   "name": "conda-base-py"
  },
  "language_info": {
   "codemirror_mode": {
    "name": "ipython",
    "version": 3
   },
   "file_extension": ".py",
   "mimetype": "text/x-python",
   "name": "python",
   "nbconvert_exporter": "python",
   "pygments_lexer": "ipython3",
   "version": "3.12.7"
  }
 },
 "nbformat": 4,
 "nbformat_minor": 5
}
