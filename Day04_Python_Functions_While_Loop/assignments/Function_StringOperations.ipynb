{
 "cells": [
  {
   "cell_type": "markdown",
   "id": "9867c3c9-36fd-45ac-8408-395dd4090369",
   "metadata": {},
   "source": [
    "# String operations using user-defined functions and while-else"
   ]
  },
  {
   "cell_type": "markdown",
   "id": "b0a7ea7c-4f52-4f45-8895-2efdc42fc409",
   "metadata": {},
   "source": [
    "## 1. reverse a string "
   ]
  },
  {
   "cell_type": "code",
   "execution_count": 13,
   "id": "c0b83976-0af2-4d7a-8cd4-2f1b62937312",
   "metadata": {},
   "outputs": [
    {
     "name": "stdin",
     "output_type": "stream",
     "text": [
      "Enter string: priyanka\n"
     ]
    },
    {
     "name": "stdout",
     "output_type": "stream",
     "text": [
      "aknayirp"
     ]
    }
   ],
   "source": [
    "def reverse(string):\n",
    "    n=len(string)\n",
    "    i=n-1\n",
    "    while i>=0:\n",
    "        print(string[i], end=\"\")\n",
    "        i-=1\n",
    "\n",
    "string = input(\"Enter string:\")\n",
    "reverse(string)"
   ]
  },
  {
   "cell_type": "markdown",
   "id": "0ea688ab-1bae-4a1b-b069-d78945f6434a",
   "metadata": {},
   "source": [
    "## 2. print even indices"
   ]
  },
  {
   "cell_type": "code",
   "execution_count": 16,
   "id": "a70ed1fd-77fb-4515-a588-626be82116dd",
   "metadata": {},
   "outputs": [
    {
     "name": "stdin",
     "output_type": "stream",
     "text": [
      "Enter string: priyanka\n"
     ]
    },
    {
     "name": "stdout",
     "output_type": "stream",
     "text": [
      "p i a k "
     ]
    }
   ],
   "source": [
    "def print_even(string):\n",
    "    n=len(string)\n",
    "    i=0\n",
    "    while i<n:\n",
    "        if i%2 == 0:\n",
    "            print(string[i], end=\" \")\n",
    "        i+=1\n",
    "\n",
    "string = input(\"Enter string:\")\n",
    "print_even(string)"
   ]
  },
  {
   "cell_type": "markdown",
   "id": "884cf920-24c3-4b5f-8d51-791fa9bdb83a",
   "metadata": {},
   "source": [
    "## 3. print odd indices"
   ]
  },
  {
   "cell_type": "code",
   "execution_count": 23,
   "id": "b9b3c372-6d73-4390-b713-3d6edbe4b643",
   "metadata": {},
   "outputs": [
    {
     "name": "stdin",
     "output_type": "stream",
     "text": [
      "Enter string: priya\n"
     ]
    },
    {
     "name": "stdout",
     "output_type": "stream",
     "text": [
      "r y "
     ]
    }
   ],
   "source": [
    "def print_odd(string):\n",
    "    n=len(string)\n",
    "    i=0\n",
    "    while i<n:\n",
    "        if i%2 != 0:\n",
    "            print(string[i], end=\" \")\n",
    "        i+=1\n",
    "\n",
    "string = input(\"Enter string:\")\n",
    "print_odd(string)"
   ]
  },
  {
   "cell_type": "markdown",
   "id": "d5b0d615-6ce5-445a-9828-859b1fdfe061",
   "metadata": {},
   "source": [
    "## 4. Split string"
   ]
  },
  {
   "cell_type": "code",
   "execution_count": 30,
   "id": "b0f26777-5550-4067-b4d1-9830ec3c3a10",
   "metadata": {},
   "outputs": [
    {
     "name": "stdin",
     "output_type": "stream",
     "text": [
      "Enter string: priyanka is the best !! .. 😘😘❤️\n"
     ]
    },
    {
     "name": "stdout",
     "output_type": "stream",
     "text": [
      "['priyanka', 'is', 'the', 'best', '!!', '..', '😘😘❤️']\n"
     ]
    }
   ],
   "source": [
    "def split(string):\n",
    "    n=len(string)\n",
    "    i=0\n",
    "    res = []\n",
    "    while i<n:\n",
    "        word = \"\"\n",
    "        while i<n and string[i]!=' ':\n",
    "            word += string[i]\n",
    "            i+=1\n",
    "        i+=1\n",
    "        res.append(word)\n",
    "    return res\n",
    "string = input(\"Enter string:\")\n",
    "print(split(string))"
   ]
  },
  {
   "cell_type": "markdown",
   "id": "2ff70166-bf6a-43e9-a354-bef8bf0c27bf",
   "metadata": {},
   "source": [
    " ## 5. Find vowels"
   ]
  },
  {
   "cell_type": "code",
   "execution_count": 35,
   "id": "028d8949-912f-431d-a312-a878066eda39",
   "metadata": {},
   "outputs": [
    {
     "name": "stdin",
     "output_type": "stream",
     "text": [
      "Enter string: priyanka\n"
     ]
    },
    {
     "name": "stdout",
     "output_type": "stream",
     "text": [
      "Number of vowels:  3\n"
     ]
    }
   ],
   "source": [
    "def vowels(string):\n",
    "    count = 0\n",
    "    for i in range(0, len(string)):\n",
    "        if string[i] in ['a', 'e', 'i', 'o', 'u', 'A', 'E', 'I', 'O', 'U']:\n",
    "            count+=1\n",
    "    return count\n",
    "string = input(\"Enter string:\")\n",
    "print(\"Number of vowels: \", vowels(string))"
   ]
  },
  {
   "cell_type": "markdown",
   "id": "f2b71b15-fe66-4e4e-ae3d-9ac13653ffbe",
   "metadata": {},
   "source": [
    "## 6. Count frequency of characters"
   ]
  },
  {
   "cell_type": "code",
   "execution_count": null,
   "id": "5b2de202-757d-4e17-8aad-115d26ad98f3",
   "metadata": {},
   "outputs": [],
   "source": [
    "def count(string):\n",
    "    freq = dict()\n",
    "    for i in range(0, len(str)):\n",
    "        if str[i] not in freq:\n",
    "            freq.update({str[i]: 1})\n",
    "        else:\n",
    "            freq[str[i]] += 1\n",
    "            \n",
    "    for i,j in freq.items():\n",
    "        print(i, \":\", j)\n",
    "        "
   ]
  }
 ],
 "metadata": {
  "kernelspec": {
   "display_name": "Python [conda env:base] *",
   "language": "python",
   "name": "conda-base-py"
  },
  "language_info": {
   "codemirror_mode": {
    "name": "ipython",
    "version": 3
   },
   "file_extension": ".py",
   "mimetype": "text/x-python",
   "name": "python",
   "nbconvert_exporter": "python",
   "pygments_lexer": "ipython3",
   "version": "3.12.7"
  }
 },
 "nbformat": 4,
 "nbformat_minor": 5
}
