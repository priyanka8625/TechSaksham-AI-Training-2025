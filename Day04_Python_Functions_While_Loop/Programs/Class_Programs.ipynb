{
 "cells": [
  {
   "cell_type": "markdown",
   "id": "18e27048-2f63-49f5-bd74-544d79ec0f7a",
   "metadata": {},
   "source": [
    "# Programs using OOPs concepts"
   ]
  },
  {
   "cell_type": "markdown",
   "id": "92c9733f-969f-454e-ac95-e5b21a0c08b1",
   "metadata": {},
   "source": [
    "## 1. Prime number"
   ]
  },
  {
   "cell_type": "code",
   "execution_count": 7,
   "id": "6cbf0d76-842b-442e-bb57-d69e6ae90043",
   "metadata": {},
   "outputs": [
    {
     "name": "stdin",
     "output_type": "stream",
     "text": [
      "Enter prime number: 5\n"
     ]
    },
    {
     "name": "stdout",
     "output_type": "stream",
     "text": [
      "5  is PRIME\n"
     ]
    }
   ],
   "source": [
    "import math\n",
    "class Prime:\n",
    "    @staticmethod\n",
    "    def is_prime(num):\n",
    "        prime = True\n",
    "        i=2\n",
    "        while i<= ((math.sqrt(num))+1):\n",
    "            if num%i == 0:\n",
    "                prime = False\n",
    "                break\n",
    "            i+=1\n",
    "        else:\n",
    "            print(num, \" is PRIME\")\n",
    "        if prime==False:\n",
    "            print(num, \" is NOT PRIME\")\n",
    "        \n",
    "num = int(input(\"Enter prime number:\"))\n",
    "Prime.is_prime(num)"
   ]
  },
  {
   "cell_type": "markdown",
   "id": "c7f8535a-9bb3-46f6-aef3-ba62350fe438",
   "metadata": {},
   "source": [
    "## 2. Armstrong number"
   ]
  },
  {
   "cell_type": "code",
   "execution_count": 10,
   "id": "76bb53d9-f495-4074-a56a-7469befee1d5",
   "metadata": {},
   "outputs": [
    {
     "name": "stdin",
     "output_type": "stream",
     "text": [
      "Enter a number: 153\n"
     ]
    },
    {
     "name": "stdout",
     "output_type": "stream",
     "text": [
      "153  is ARMSTRONG!\n"
     ]
    }
   ],
   "source": [
    "class Armstrong:\n",
    "    @staticmethod\n",
    "    def is_armstrong(n):\n",
    "        len = n.__len__()\n",
    "        sum = 0\n",
    "        n = int(n)\n",
    "        temp = int(n)\n",
    "        while temp!=0:\n",
    "            digit = temp%10\n",
    "            sum += (digit**len)\n",
    "            temp //= 10\n",
    "        if sum==n:\n",
    "            print(n, \" is ARMSTRONG!\")\n",
    "        else:\n",
    "            print(n, \" is NOT ARMSTRONG!\")\n",
    "        \n",
    "n = input(\"Enter a number:\")\n",
    "Armstrong.is_armstrong(n)"
   ]
  },
  {
   "cell_type": "markdown",
   "id": "63583ef2-2dd1-49ce-8257-2a30c5bbee46",
   "metadata": {},
   "source": [
    "## 3. Print first n Prime numbers"
   ]
  },
  {
   "cell_type": "code",
   "execution_count": 20,
   "id": "ff0dc259-e69e-470e-88e4-34c7797e6649",
   "metadata": {},
   "outputs": [
    {
     "name": "stdin",
     "output_type": "stream",
     "text": [
      "Enter value of n: 10\n"
     ]
    },
    {
     "name": "stdout",
     "output_type": "stream",
     "text": [
      "1 3 5 7 "
     ]
    }
   ],
   "source": [
    "import math\n",
    "class PrintPrimes:\n",
    "    def print_primes(self, n):\n",
    "        num = 1\n",
    "        while num <= n:\n",
    "            if num == 2:\n",
    "                num+=1\n",
    "                continue\n",
    "            if self.is_prime(num):\n",
    "                print(num, end=\" \")\n",
    "            num += 1\n",
    "            \n",
    "    def is_prime(self, num):\n",
    "        prime = True\n",
    "        i=2\n",
    "        while i<= ((math.sqrt(num))+1):\n",
    "            if num%i == 0:\n",
    "                prime = False\n",
    "                break\n",
    "            i+=1\n",
    "        else:\n",
    "            return True\n",
    "        if prime==False:\n",
    "            return False\n",
    "\n",
    "p = PrintPrimes()\n",
    "n = int(input(\"Enter value of n:\"))\n",
    "p.print_primes(n)"
   ]
  },
  {
   "cell_type": "markdown",
   "id": "675639e1-3d01-47e3-8456-68ffd5d34b36",
   "metadata": {},
   "source": [
    "## Armstrong, Palindrome, Prime using inheritance"
   ]
  },
  {
   "cell_type": "code",
   "execution_count": 27,
   "id": "fe065902-1d35-4d8b-ac01-af90dc0be25c",
   "metadata": {},
   "outputs": [
    {
     "name": "stdin",
     "output_type": "stream",
     "text": [
      "Enter number: 11\n"
     ]
    },
    {
     "name": "stdout",
     "output_type": "stream",
     "text": [
      "11  is NOT ARMSTRONG!\n",
      "11  is PALINDROME\n",
      "11  is PRIME\n"
     ]
    }
   ],
   "source": [
    "class Number:\n",
    "    def __init__(self, number):\n",
    "        self.number = number\n",
    "    def display(self):\n",
    "        print(self.number)\n",
    "\n",
    "class Armstrong(Number):\n",
    "    def __init__(self, number):\n",
    "        Number.__init__(self, number)\n",
    "    def is_armstrong(self):\n",
    "        len = self.number.__len__()\n",
    "        sum = 0\n",
    "        self.number = int(self.number)\n",
    "        temp = int(self.number)\n",
    "        while temp!=0:\n",
    "            digit = temp%10\n",
    "            sum += (digit**len)\n",
    "            temp //= 10\n",
    "        if sum==self.number:\n",
    "            print(self.number, \" is ARMSTRONG!\")\n",
    "        else:\n",
    "            print(self.number, \" is NOT ARMSTRONG!\")\n",
    "\n",
    "class Prime:\n",
    "    def __init__(self, number):\n",
    "        Number.__init__(self, number)\n",
    "    def is_prime(self):\n",
    "        prime = True\n",
    "        i=2\n",
    "        while i<= ((math.sqrt(self.number))+1):\n",
    "            if self.number%i == 0:\n",
    "                prime = False\n",
    "                break\n",
    "            i+=1\n",
    "        else:\n",
    "            print(self.number, \" is PRIME\")\n",
    "        if prime==False:\n",
    "            print(self.number, \" is NOT PRIME\")\n",
    "\n",
    "class Palindrome:\n",
    "    def __init__(self, number):\n",
    "        Number.__init__(self, number)\n",
    "    def is_palindrome(self):\n",
    "        rev = 0\n",
    "        n = self.number\n",
    "        while(n != 0):\n",
    "            digit = n%10\n",
    "            rev = rev*10 + digit\n",
    "            n //= 10\n",
    "        if(rev == self.number):\n",
    "            print(self.number, \" is PALINDROME\")\n",
    "        else:\n",
    "            print(self.number, \" is NOT PALINDROME\")\n",
    "\n",
    "# take user input\n",
    "n = input(\"Enter number:\")\n",
    "Armstrong(n).is_armstrong()\n",
    "Palindrome(int(n)).is_palindrome()\n",
    "Prime(int(n)).is_prime()\n"
   ]
  },
  {
   "cell_type": "code",
   "execution_count": 35,
   "id": "89614698-8a2a-4760-a634-69a25018a615",
   "metadata": {},
   "outputs": [
    {
     "name": "stdout",
     "output_type": "stream",
     "text": [
      "[3, 2, 1, 4, 5]\n",
      "5 4 1 2 3 \n",
      "[1, 2, 3, 4, 5]\n",
      "[5, 4, 3, 2, 1]\n"
     ]
    }
   ],
   "source": [
    "class Reverse:\n",
    "    def __init__(self, my_list):\n",
    "        self.my_list = my_list\n",
    "    def reverse(self):\n",
    "        n = len(self.my_list)\n",
    "        for i in range(n-1, -1, -1):\n",
    "            print(self.my_list[i], end=\" \")\n",
    "        print()\n",
    "\n",
    "class Ascending:\n",
    "    def __init__(self, my_list):\n",
    "        self.my_list = my_list\n",
    "    def asc(self):\n",
    "        n=len(self.my_list)\n",
    "        i=0\n",
    "        while i<n:\n",
    "            mini = self.my_list[i] \n",
    "            smallest = i\n",
    "            j=i\n",
    "            while j<n:\n",
    "                if self.my_list[j] < mini:\n",
    "                    smallest = j\n",
    "                    mini = self.my_list[j]\n",
    "                j+=1\n",
    "            #place i'th smallest number at i'th index\n",
    "            self.my_list[i], self.my_list[smallest] = self.my_list[smallest], self.my_list[i]\n",
    "            i+=1\n",
    "\n",
    "class Descending:\n",
    "    def __init__(self, my_list):\n",
    "        self.my_list = my_list\n",
    "    def desc(self):\n",
    "        n=len(self.my_list)\n",
    "        i=0\n",
    "        while i<n:\n",
    "            maxi = self.my_list[i]\n",
    "            largest = i\n",
    "            j=i\n",
    "            while j<n:\n",
    "                if self.my_list[j] > maxi:\n",
    "                    largest = j\n",
    "                    maxi = self.my_list[j]\n",
    "                j+=1\n",
    "            #place i'th smallest number at i'th index\n",
    "            self.my_list[i], self.my_list[largest] = self.my_list[largest], self.my_list[i]\n",
    "            i+=1\n",
    "\n",
    "class MyList(Reverse, Ascending, Descending):\n",
    "    def __init__(self, my_list):\n",
    "        Reverse.__init__(self, my_list)\n",
    "        Ascending.__init__(self, my_list)\n",
    "        Descending.__init__(self, my_list)\n",
    "    def print_list(self):\n",
    "        print(self.my_list)\n",
    "\n",
    "my_list = [3, 2, 1, 4, 5]\n",
    "l = MyList(my_list)\n",
    "l.print_list()\n",
    "l.reverse()\n",
    "l.asc()\n",
    "l.print_list()\n",
    "l.desc()\n",
    "l.print_list()"
   ]
  },
  {
   "cell_type": "code",
   "execution_count": 37,
   "id": "228ad1fa-6efc-4c49-b2bb-16db924b1006",
   "metadata": {},
   "outputs": [
    {
     "ename": "TypeError",
     "evalue": "Print_List.print_list() missing 1 required positional argument: 'list'",
     "output_type": "error",
     "traceback": [
      "\u001b[1;31m---------------------------------------------------------------------------\u001b[0m",
      "\u001b[1;31mTypeError\u001b[0m                                 Traceback (most recent call last)",
      "Cell \u001b[1;32mIn[37], line 7\u001b[0m\n\u001b[0;32m      5\u001b[0m         \u001b[38;5;28mprint\u001b[39m(\u001b[38;5;28mlist\u001b[39m)\n\u001b[0;32m      6\u001b[0m p \u001b[38;5;241m=\u001b[39m Print_List()\n\u001b[1;32m----> 7\u001b[0m p\u001b[38;5;241m.\u001b[39mprint_list()\n\u001b[0;32m      8\u001b[0m p\u001b[38;5;241m.\u001b[39mprint_list([\u001b[38;5;241m3\u001b[39m, \u001b[38;5;241m2\u001b[39m, \u001b[38;5;241m4\u001b[39m])\n",
      "\u001b[1;31mTypeError\u001b[0m: Print_List.print_list() missing 1 required positional argument: 'list'"
     ]
    }
   ],
   "source": [
    "class Print_List:\n",
    "    def print_list(self):\n",
    "        print([1, 2, 3, 4, 5])\n",
    "    def print_list(self, list):\n",
    "        print(list)\n",
    "p = Print_List()\n",
    "p.print_list()\n",
    "p.print_list([3, 2, 4])"
   ]
  },
  {
   "cell_type": "code",
   "execution_count": null,
   "id": "b0d92c0a-8092-4677-b843-876c548ce286",
   "metadata": {},
   "outputs": [],
   "source": []
  }
 ],
 "metadata": {
  "kernelspec": {
   "display_name": "Python [conda env:base] *",
   "language": "python",
   "name": "conda-base-py"
  },
  "language_info": {
   "codemirror_mode": {
    "name": "ipython",
    "version": 3
   },
   "file_extension": ".py",
   "mimetype": "text/x-python",
   "name": "python",
   "nbconvert_exporter": "python",
   "pygments_lexer": "ipython3",
   "version": "3.12.7"
  }
 },
 "nbformat": 4,
 "nbformat_minor": 5
}
