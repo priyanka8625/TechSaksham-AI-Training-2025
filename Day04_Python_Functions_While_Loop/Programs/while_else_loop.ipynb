{
 "cells": [
  {
   "cell_type": "markdown",
   "id": "67dddd27-1e59-45a6-b705-f5327973c7bb",
   "metadata": {},
   "source": [
    "# While-Else loops"
   ]
  },
  {
   "cell_type": "markdown",
   "id": "df9d8570-252f-4e6f-95e0-c54004fb40ef",
   "metadata": {},
   "source": [
    "## 1. Prime number"
   ]
  },
  {
   "cell_type": "code",
   "execution_count": 34,
   "id": "d9de1b7e-74b2-40fd-9e29-cc0ec8cf5b3d",
   "metadata": {},
   "outputs": [
    {
     "name": "stdin",
     "output_type": "stream",
     "text": [
      "Enter prime number: 3\n"
     ]
    },
    {
     "name": "stdout",
     "output_type": "stream",
     "text": [
      "3  is PRIME\n"
     ]
    }
   ],
   "source": [
    "import math\n",
    "def is_prime(num):\n",
    "    prime = True\n",
    "    i=2\n",
    "    while i<= ((math.sqrt(num))+1):\n",
    "        if num%i == 0:\n",
    "            prime = False\n",
    "            break\n",
    "        i+=1\n",
    "    else:\n",
    "        print(num, \" is PRIME\")\n",
    "    if prime==False:\n",
    "        print(num, \" is NOT PRIME\")\n",
    "\n",
    "num = int(input(\"Enter prime number:\"))\n",
    "is_prime(num)"
   ]
  },
  {
   "cell_type": "markdown",
   "id": "1e37ce12-0789-4ddd-b8aa-b12d3f0e80c5",
   "metadata": {},
   "source": [
    "## 2. Armstrong number"
   ]
  },
  {
   "cell_type": "code",
   "execution_count": 16,
   "id": "6408ffb9-4906-4193-b957-4f2e6838ecf5",
   "metadata": {},
   "outputs": [
    {
     "name": "stdin",
     "output_type": "stream",
     "text": [
      "Enter a number: 152\n"
     ]
    },
    {
     "name": "stdout",
     "output_type": "stream",
     "text": [
      "152  is NOT ARMSTRONG!\n"
     ]
    }
   ],
   "source": [
    "def is_armstrong(n):\n",
    "    len = n.__len__()\n",
    "    sum = 0\n",
    "    n = int(n)\n",
    "    temp = int(n)\n",
    "    while temp!=0:\n",
    "        digit = temp%10\n",
    "        sum += (digit**len)\n",
    "        temp //= 10\n",
    "    if sum==n:\n",
    "        print(n, \" is ARMSTRONG!\")\n",
    "    else:\n",
    "        print(n, \" is NOT ARMSTRONG!\")\n",
    "        \n",
    "n = input(\"Enter a number:\")\n",
    "is_armstrong(n)"
   ]
  },
  {
   "cell_type": "markdown",
   "id": "6e247f4c-989e-4b3a-8a31-37e9f25c5713",
   "metadata": {},
   "source": [
    "## 3. Print n Prime numbers"
   ]
  },
  {
   "cell_type": "code",
   "execution_count": 4,
   "id": "ff28273a-b50a-46e2-a566-2d8449a21729",
   "metadata": {},
   "outputs": [
    {
     "name": "stdin",
     "output_type": "stream",
     "text": [
      "Enter value of n: 10\n"
     ]
    },
    {
     "name": "stdout",
     "output_type": "stream",
     "text": [
      "1 3 5 7 "
     ]
    }
   ],
   "source": [
    "import math\n",
    "def print_primes(n):\n",
    "    num = 1\n",
    "    while num <= n:\n",
    "        if num == 2:\n",
    "            num+=1\n",
    "            continue\n",
    "        if is_prime(num):\n",
    "            print(num, end=\" \")\n",
    "        num += 1\n",
    "        \n",
    "def is_prime(num):\n",
    "    prime = True\n",
    "    i=2\n",
    "    while i<= ((math.sqrt(num))+1):\n",
    "        if num%i == 0:\n",
    "            prime = False\n",
    "            break\n",
    "        i+=1\n",
    "    else:\n",
    "        return True\n",
    "    if prime==False:\n",
    "        return False\n",
    "\n",
    "n = int(input(\"Enter value of n:\"))\n",
    "print_primes(n)"
   ]
  },
  {
   "cell_type": "markdown",
   "id": "411eab03-bc5a-42ad-aae9-28f7e6259039",
   "metadata": {},
   "source": [
    "## 4. Fibonacci numbers"
   ]
  },
  {
   "cell_type": "code",
   "execution_count": 6,
   "id": "f9e75732-1e4f-41ee-8811-0772eb3a3815",
   "metadata": {},
   "outputs": [
    {
     "name": "stdin",
     "output_type": "stream",
     "text": [
      "Enter n to print fibonacci series: 5\n"
     ]
    },
    {
     "name": "stdout",
     "output_type": "stream",
     "text": [
      "0 1 1 2 3 "
     ]
    }
   ],
   "source": [
    "def print_fibo(n):\n",
    "    prev = 0\n",
    "    curr = 1\n",
    "    print (prev, curr, end=\" \")\n",
    "    i=3\n",
    "    while i<=n:\n",
    "        next = prev + curr\n",
    "        print(next, end=\" \")\n",
    "        prev = curr\n",
    "        curr = next\n",
    "        i+=1\n",
    "\n",
    "n = int(input(\"Enter n to print fibonacci series:\"))\n",
    "print_fibo(n)"
   ]
  },
  {
   "cell_type": "markdown",
   "id": "02b5ac5d-a3e8-406d-9f39-00079da25b67",
   "metadata": {},
   "source": [
    "## 5. Ascending order of list"
   ]
  },
  {
   "cell_type": "code",
   "execution_count": 10,
   "id": "56dc1060-f9d3-45c0-9eca-00f61f8d8841",
   "metadata": {},
   "outputs": [
    {
     "name": "stdin",
     "output_type": "stream",
     "text": [
      "Enter value of n: 5\n"
     ]
    },
    {
     "name": "stdout",
     "output_type": "stream",
     "text": [
      "enter numbers:\n"
     ]
    },
    {
     "name": "stdin",
     "output_type": "stream",
     "text": [
      " 4\n",
      " 5\n",
      " 3\n",
      " 2\n",
      " 1\n"
     ]
    },
    {
     "name": "stdout",
     "output_type": "stream",
     "text": [
      "Original list:  [4, 5, 3, 2, 1]\n",
      "sorted list:  [1, 2, 3, 4, 5]\n"
     ]
    }
   ],
   "source": [
    "def asc(n, my_list):\n",
    "    i=0\n",
    "    while i<n:\n",
    "        mini = my_list[i] \n",
    "        smallest = i\n",
    "        j=i\n",
    "        while j<n:\n",
    "            if my_list[j] < mini:\n",
    "                smallest = j\n",
    "                mini = my_list[j]\n",
    "            j+=1\n",
    "        #place i'th smallest number at i'th index\n",
    "        my_list[i], my_list[smallest] = my_list[smallest], my_list[i]\n",
    "        i+=1\n",
    "\n",
    "n = int(input(\"Enter value of n:\"))\n",
    "my_list = list()\n",
    "print(\"enter numbers:\")\n",
    "for i in range(0, n):\n",
    "    my_list.append(int(input()))\n",
    "\n",
    "print(\"Original list: \", my_list)\n",
    "asc(n, my_list)\n",
    "print(\"sorted list: \", my_list)"
   ]
  },
  {
   "cell_type": "markdown",
   "id": "d477468f-9708-4de9-9c0d-fa6155b9e6ac",
   "metadata": {},
   "source": [
    "## 6. Descending order of list"
   ]
  },
  {
   "cell_type": "code",
   "execution_count": 12,
   "id": "75a75ec6-50c5-47e9-a3da-6022b66bd25c",
   "metadata": {},
   "outputs": [
    {
     "name": "stdin",
     "output_type": "stream",
     "text": [
      "Enter value of n: 5\n"
     ]
    },
    {
     "name": "stdout",
     "output_type": "stream",
     "text": [
      "enter numbers:\n"
     ]
    },
    {
     "name": "stdin",
     "output_type": "stream",
     "text": [
      " 12\n",
      " 2\n",
      " 3\n",
      " 4\n",
      " 5\n"
     ]
    },
    {
     "name": "stdout",
     "output_type": "stream",
     "text": [
      "Original list:  [12, 2, 3, 4, 5]\n",
      "sorted list:  [2, 3, 4, 5, 12]\n"
     ]
    }
   ],
   "source": [
    "def desc(n, my_list):\n",
    "    i=0\n",
    "    while i<n:\n",
    "        maxi = my_list[i]\n",
    "        largest = i\n",
    "        j=i\n",
    "        while j<n:\n",
    "            if my_list[j] > maxi:\n",
    "                largest = j\n",
    "                maxi = my_list[j]\n",
    "            j+=1\n",
    "        #place i'th smallest number at i'th index\n",
    "        my_list[i], my_list[largest] = my_list[largest], my_list[i]\n",
    "        i+=1\n",
    "\n",
    "n = int(input(\"Enter value of n:\"))\n",
    "my_list = list()\n",
    "print(\"enter numbers:\")\n",
    "for i in range(0, n):\n",
    "    my_list.append(int(input()))\n",
    "\n",
    "print(\"Original list: \", my_list)\n",
    "asc(n, my_list)\n",
    "print(\"sorted list: \", my_list)"
   ]
  }
 ],
 "metadata": {
  "kernelspec": {
   "display_name": "Python [conda env:base] *",
   "language": "python",
   "name": "conda-base-py"
  },
  "language_info": {
   "codemirror_mode": {
    "name": "ipython",
    "version": 3
   },
   "file_extension": ".py",
   "mimetype": "text/x-python",
   "name": "python",
   "nbconvert_exporter": "python",
   "pygments_lexer": "ipython3",
   "version": "3.12.7"
  }
 },
 "nbformat": 4,
 "nbformat_minor": 5
}
