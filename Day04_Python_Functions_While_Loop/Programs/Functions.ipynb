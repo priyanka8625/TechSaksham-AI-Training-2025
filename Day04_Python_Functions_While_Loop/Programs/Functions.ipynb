{
 "cells": [
  {
   "cell_type": "markdown",
   "id": "7834af59-6205-4557-96e8-ea8201b69407",
   "metadata": {},
   "source": [
    "## Count length of string"
   ]
  },
  {
   "cell_type": "code",
   "execution_count": 1,
   "id": "540e928e-c5a9-4e84-8cdc-356fff4d325e",
   "metadata": {},
   "outputs": [
    {
     "name": "stdin",
     "output_type": "stream",
     "text": [
      "Enter string: pt\n"
     ]
    },
    {
     "data": {
      "text/plain": [
       "2"
      ]
     },
     "execution_count": 1,
     "metadata": {},
     "output_type": "execute_result"
    }
   ],
   "source": [
    "def length(stri):\n",
    "    len = 0\n",
    "    for i in stri:\n",
    "        len+=1\n",
    "    return len\n",
    "\n",
    "stri = input(\"Enter string:\")\n",
    "length(stri)"
   ]
  },
  {
   "cell_type": "markdown",
   "id": "cfb31ea7-bbb0-44c8-a216-641639a91983",
   "metadata": {},
   "source": [
    "## Convert upper to lower and vice versa "
   ]
  },
  {
   "cell_type": "code",
   "execution_count": 5,
   "id": "0465dc8d-a18f-46eb-9227-6e5dfe4c748e",
   "metadata": {},
   "outputs": [
    {
     "name": "stdin",
     "output_type": "stream",
     "text": [
      "Enter string: AbCd\n"
     ]
    },
    {
     "name": "stdout",
     "output_type": "stream",
     "text": [
      "aBcD\n"
     ]
    }
   ],
   "source": [
    "def upper_lower(string):\n",
    "    res = \"\"\n",
    "    for i in string:\n",
    "        if i>='A' and i<='Z':\n",
    "            res += str(chr(ord(i)+32))\n",
    "        if i>='a' and i<='z':\n",
    "            res += str(chr(ord(i)-32))\n",
    "    return res\n",
    "\n",
    "string = input(\"Enter string:\")\n",
    "print(upper_lower(string))"
   ]
  },
  {
   "cell_type": "code",
   "execution_count": null,
   "id": "57035afc-6fdc-45fc-84eb-862bbbca46d1",
   "metadata": {},
   "outputs": [],
   "source": []
  }
 ],
 "metadata": {
  "kernelspec": {
   "display_name": "Python [conda env:base] *",
   "language": "python",
   "name": "conda-base-py"
  },
  "language_info": {
   "codemirror_mode": {
    "name": "ipython",
    "version": 3
   },
   "file_extension": ".py",
   "mimetype": "text/x-python",
   "name": "python",
   "nbconvert_exporter": "python",
   "pygments_lexer": "ipython3",
   "version": "3.12.7"
  }
 },
 "nbformat": 4,
 "nbformat_minor": 5
}
