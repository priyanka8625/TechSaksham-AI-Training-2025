{
 "cells": [
  {
   "cell_type": "markdown",
   "id": "6c9d0cbc-b725-4b99-a8a9-178bcc489f99",
   "metadata": {},
   "source": [
    "# Python Exception handling"
   ]
  },
  {
   "cell_type": "markdown",
   "id": "b3e4c292-8060-4acd-912c-73108c0a8e5c",
   "metadata": {},
   "source": [
    "## File Operations with exception handling"
   ]
  },
  {
   "cell_type": "code",
   "execution_count": 11,
   "id": "c4527b87-a63c-4ce7-bc99-a00f344dab09",
   "metadata": {},
   "outputs": [
    {
     "name": "stdin",
     "output_type": "stream",
     "text": [
      "Enter file name to read contents: demo.txt\n"
     ]
    },
    {
     "name": "stdout",
     "output_type": "stream",
     "text": [
      "Hey There! This is Priyanka!!!\n"
     ]
    }
   ],
   "source": [
    "def read_file_contents(file_name):\n",
    "    try: \n",
    "        with open(file_name, 'r') as file:\n",
    "            return file.read()  \n",
    "    except FileNotFoundError:\n",
    "        return \"Error: File was not found! Please check the file name again!\"\n",
    "    except PermissionError:\n",
    "        return \"Error: You don't have permission to open and read the file!\"\n",
    "    except Exception:\n",
    "        return \"Unknown Error Occured!\"\n",
    "\n",
    "file_name = input(\"Enter file name to read contents:\")\n",
    "print(read_file_contents(file_name))"
   ]
  },
  {
   "cell_type": "code",
   "execution_count": null,
   "id": "3df6fa46-105b-4368-a4f1-3bc5f81a4d75",
   "metadata": {},
   "outputs": [],
   "source": []
  }
 ],
 "metadata": {
  "kernelspec": {
   "display_name": "Python [conda env:base] *",
   "language": "python",
   "name": "conda-base-py"
  },
  "language_info": {
   "codemirror_mode": {
    "name": "ipython",
    "version": 3
   },
   "file_extension": ".py",
   "mimetype": "text/x-python",
   "name": "python",
   "nbconvert_exporter": "python",
   "pygments_lexer": "ipython3",
   "version": "3.12.7"
  }
 },
 "nbformat": 4,
 "nbformat_minor": 5
}
