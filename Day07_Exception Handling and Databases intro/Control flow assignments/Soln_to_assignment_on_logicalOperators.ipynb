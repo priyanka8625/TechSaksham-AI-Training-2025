{
 "cells": [
  {
   "cell_type": "markdown",
   "id": "3a21e04c-88af-4cba-8c2c-979ee41e75d5",
   "metadata": {},
   "source": [
    "## 1. BMI calculator"
   ]
  },
  {
   "cell_type": "code",
   "execution_count": 12,
   "id": "be9ed5b8-b8b4-403d-adc7-c71def9ec0e5",
   "metadata": {},
   "outputs": [
    {
     "name": "stdin",
     "output_type": "stream",
     "text": [
      "Enter weight in kgs: 61\n",
      "Enter height in meters: 1.737\n"
     ]
    },
    {
     "name": "stdout",
     "output_type": "stream",
     "text": [
      "You have a normal weight\n"
     ]
    }
   ],
   "source": [
    "def check_bmi(weight, height):\n",
    "    if height == 0:\n",
    "        raise ValueError(\"Height cannot be zero!\")\n",
    "    if height<0 or weight<0:\n",
    "        raise ValueError(\"values cannot be negative!\")\n",
    "    bmi = weight/height**2\n",
    "    if bmi<18.5:\n",
    "        print(\"You're underweight\")\n",
    "    elif bmi>18.5 and bmi<25:\n",
    "        print(\"You have a normal weight\")\n",
    "    elif bmi>25 and bmi<30:\n",
    "        print(\"You are slightly overweight\")\n",
    "    elif bmi>30 and bmi<35:\n",
    "        print(\"You're obese\")\n",
    "    else:\n",
    "        print(\"You're clinically obese\")\n",
    "\n",
    "weight = float(input(\"Enter weight in kgs:\"))\n",
    "height = float(input(\"Enter height in meters:\"))\n",
    "check_bmi(weight, height)"
   ]
  },
  {
   "cell_type": "markdown",
   "id": "eab7f38a-d3a0-4969-9e00-6829104d80ff",
   "metadata": {},
   "source": [
    "## 2. Leap year or not"
   ]
  },
  {
   "cell_type": "code",
   "execution_count": 19,
   "id": "ca4a400e-8597-47d1-aa47-9b76a0ce0ad1",
   "metadata": {},
   "outputs": [
    {
     "name": "stdin",
     "output_type": "stream",
     "text": [
      "Enter year: 2005\n"
     ]
    },
    {
     "name": "stdout",
     "output_type": "stream",
     "text": [
      "2005  is  Not leap year\n"
     ]
    }
   ],
   "source": [
    "def check_leap(year):\n",
    "    if year%4 == 0:\n",
    "        if year%100 != 0:\n",
    "            return \"Leap year\"\n",
    "        elif year%400 == 0:\n",
    "            return \"Leap year\"\n",
    "        else:\n",
    "            return \"Not leap year\"\n",
    "    else:\n",
    "        return \"Not leap year\"\n",
    "\n",
    "year = int(input(\"Enter year:\"))\n",
    "print(year, \" is \", check_leap(year))"
   ]
  },
  {
   "cell_type": "code",
   "execution_count": 26,
   "id": "8a7fa4f1-d879-4ffd-86eb-ce81ddba02ee",
   "metadata": {},
   "outputs": [
    {
     "name": "stdin",
     "output_type": "stream",
     "text": [
      "Enter year: 2004\n"
     ]
    },
    {
     "name": "stdout",
     "output_type": "stream",
     "text": [
      "2004  is  Leap year\n"
     ]
    }
   ],
   "source": [
    "def check_leap(year):\n",
    "    if year%4 == 0 and (year%100 != 0 or year%400 == 0):\n",
    "        return \"Leap year\"\n",
    "    else:\n",
    "        return \"Not leap year\"\n",
    "\n",
    "year = int(input(\"Enter year:\"))\n",
    "print(year, \" is \", check_leap(year))"
   ]
  },
  {
   "cell_type": "markdown",
   "id": "972c5ceb-15dd-489d-a6a9-bf61eeaaa377",
   "metadata": {},
   "source": [
    "## 3. Rollercoster program"
   ]
  },
  {
   "cell_type": "code",
   "execution_count": 24,
   "id": "f86be563-6dd6-4b96-af24-40e7e65a733b",
   "metadata": {},
   "outputs": [
    {
     "name": "stdin",
     "output_type": "stream",
     "text": [
      "Enter your height in cms: 150\n",
      "Enter your age: 19\n",
      "Want photos? (y/n) y\n"
     ]
    },
    {
     "name": "stdout",
     "output_type": "stream",
     "text": [
      "The total bill is:  15\n"
     ]
    }
   ],
   "source": [
    "height = float(input(\"Enter your height in cms:\"))\n",
    "if height > 120:\n",
    "    age = int(input(\"Enter your age:\"))\n",
    "    bill = 0\n",
    "    if age < 12:\n",
    "        bill = 5\n",
    "    elif age>=12 and age<18:\n",
    "        bill = 7\n",
    "    elif age>=18 and age<45:\n",
    "        bill = 12\n",
    "    want_pics = input(\"Want photos? (y/n)\")\n",
    "    if want_pics == 'y' or want_pics == 'Y':\n",
    "        bill += 3\n",
    "    print(\"The total bill is: \", bill)        \n",
    "else:\n",
    "    print(\"Can't ride\")    "
   ]
  },
  {
   "cell_type": "markdown",
   "id": "d4829f0e-3c93-425e-a096-e1b0f47f4aca",
   "metadata": {},
   "source": [
    "## 4. Python Pizza"
   ]
  },
  {
   "cell_type": "code",
   "execution_count": 32,
   "id": "cb2ce855-b02f-4364-8f84-f349f6f41dd3",
   "metadata": {},
   "outputs": [
    {
     "name": "stdout",
     "output_type": "stream",
     "text": [
      "Place your order:\n",
      "-------------------------------------------\n",
      "1 - Small pizza : 15$\n",
      "2 - Medium pizza : 20$\n",
      "3 - Large pizza : 25$\n"
     ]
    },
    {
     "name": "stdin",
     "output_type": "stream",
     "text": [
      "Enter your choice to place order: 1\n"
     ]
    },
    {
     "name": "stdout",
     "output_type": "stream",
     "text": [
      "Want some toppings:\n",
      "1 - Pepperoni for small pizza: +2$\n",
      "2 - Pepperoni for medium or large pizza: +3$\n",
      "3 - Extra cheese : +1$\n",
      "4 - No\n"
     ]
    },
    {
     "name": "stdin",
     "output_type": "stream",
     "text": [
      "Enter your choice: 1\n",
      "Want to order more?? (y/n) y\n"
     ]
    },
    {
     "name": "stdout",
     "output_type": "stream",
     "text": [
      "-------------------------------------------\n",
      "1 - Small pizza : 15$\n",
      "2 - Medium pizza : 20$\n",
      "3 - Large pizza : 25$\n"
     ]
    },
    {
     "name": "stdin",
     "output_type": "stream",
     "text": [
      "Enter your choice to place order: 2\n"
     ]
    },
    {
     "name": "stdout",
     "output_type": "stream",
     "text": [
      "Want some toppings:\n",
      "1 - Pepperoni for small pizza: +2$\n",
      "2 - Pepperoni for medium or large pizza: +3$\n",
      "3 - Extra cheese : +1$\n",
      "4 - No\n"
     ]
    },
    {
     "name": "stdin",
     "output_type": "stream",
     "text": [
      "Enter your choice: 2\n",
      "Want to order more?? (y/n) y\n"
     ]
    },
    {
     "name": "stdout",
     "output_type": "stream",
     "text": [
      "-------------------------------------------\n",
      "1 - Small pizza : 15$\n",
      "2 - Medium pizza : 20$\n",
      "3 - Large pizza : 25$\n"
     ]
    },
    {
     "name": "stdin",
     "output_type": "stream",
     "text": [
      "Enter your choice to place order: 3\n"
     ]
    },
    {
     "name": "stdout",
     "output_type": "stream",
     "text": [
      "Want some toppings:\n",
      "1 - Pepperoni for small pizza: +2$\n",
      "2 - Pepperoni for medium or large pizza: +3$\n",
      "3 - Extra cheese : +1$\n",
      "4 - No\n"
     ]
    },
    {
     "name": "stdin",
     "output_type": "stream",
     "text": [
      "Enter your choice: 3\n",
      "Want to order more?? (y/n) n\n"
     ]
    },
    {
     "data": {
      "text/plain": [
       "66"
      ]
     },
     "execution_count": 32,
     "metadata": {},
     "output_type": "execute_result"
    }
   ],
   "source": [
    "def order_pizza():\n",
    "    print(\"Place your order:\")\n",
    "    bill = 0\n",
    "    while True:\n",
    "        print(\"-------------------------------------------\")\n",
    "        print(\"1 - Small pizza : 15$\")\n",
    "        print(\"2 - Medium pizza : 20$\")\n",
    "        print(\"3 - Large pizza : 25$\")\n",
    "        ch = int(input(\"Enter your choice to place order:\"))\n",
    "        bill += 15 if ch==1 else 20 if ch==2 else 25\n",
    "        ch = 0\n",
    "        print(\"Want some toppings:\")\n",
    "        print(\"1 - Pepperoni for small pizza: +2$\")\n",
    "        print(\"2 - Pepperoni for medium or large pizza: +3$\")\n",
    "        print(\"3 - Extra cheese : +1$\")\n",
    "        print(\"4 - No\")\n",
    "        ch = int(input(\"Enter your choice:\"))\n",
    "        bill += 2 if ch==1 else 3 if ch==2 else 1 if ch==3 else 0\n",
    "        ch = input(\"Want to order more?? (y/n)\")\n",
    "        if ch == 'n' or ch=='N':\n",
    "            break\n",
    "    return bill\n",
    "\n",
    "order_pizza()"
   ]
  },
  {
   "cell_type": "markdown",
   "id": "f3b7fbab-0478-44e0-b863-e297221c88ef",
   "metadata": {},
   "source": [
    "## 5. Treasure Map"
   ]
  },
  {
   "cell_type": "code",
   "execution_count": 41,
   "id": "fd5a220e-f79d-44c4-a2e9-649e3ee25a83",
   "metadata": {},
   "outputs": [
    {
     "name": "stderr",
     "output_type": "stream",
     "text": [
      "<>:2: SyntaxWarning: invalid escape sequence '\\`'\n",
      "<>:2: SyntaxWarning: invalid escape sequence '\\`'\n",
      "C:\\Users\\ksund\\AppData\\Local\\Temp\\ipykernel_11604\\3669710025.py:2: SyntaxWarning: invalid escape sequence '\\`'\n",
      "  print('''\n"
     ]
    },
    {
     "name": "stdout",
     "output_type": "stream",
     "text": [
      "WELCOME to Treasure Island!\n",
      "Your mission is to find the treasure\n",
      "Let'ssss Gooooo...\n",
      "-----------------------------------------\n"
     ]
    },
    {
     "name": "stdin",
     "output_type": "stream",
     "text": [
      "You're at a crossroad. Where do you want to go? Type 'left' or 'right' left\n"
     ]
    },
    {
     "name": "stdout",
     "output_type": "stream",
     "text": [
      "You've come to a lake. There is an island in the middle of the lake.\n"
     ]
    },
    {
     "name": "stdin",
     "output_type": "stream",
     "text": [
      "Type 'wait' to wait for a boat. Type 'swim' to swim across. wait\n"
     ]
    },
    {
     "name": "stdout",
     "output_type": "stream",
     "text": [
      "You arrive at the island unharmed. There is a house with 3 doors. One red, one yellow and one blue. Which colour do you choose?\n"
     ]
    },
    {
     "name": "stdin",
     "output_type": "stream",
     "text": [
      "1. RED\n",
      " 2. YELLOW\n",
      " 3. BLUE\n",
      " (1/2/3)? 2\n"
     ]
    },
    {
     "name": "stdout",
     "output_type": "stream",
     "text": [
      "You found the treasure!\n",
      "\n",
      "            *******************************************************************************\n",
      "                      |                   |                  |                     |\n",
      "             _________|________________.=\"\"_;=.______________|_____________________|_______\n",
      "            |                   |  ,-\"_,=\"\"     `\"=.|                  |\n",
      "            |___________________|__\"=._o`\"-._        `\"=.______________|___________________\n",
      "                      |                `\"=._o`\"=._      _`\"=._                     |\n",
      "             _________|_____________________:=._o \"=._.\"_.-=\"'\"=.__________________|_______\n",
      "            |                   |    __.--\" , ; `\"=._o.\" ,-\"\"\"-._ \".   |\n",
      "            |___________________|_._\"  ,. .` ` `` ,  `\"-._\"-._   \". '__|___________________\n",
      "                      |           |o`\"=._` , \"` `; .\". ,  \"-._\"-._; ;              |\n",
      "             _________|___________| ;`-.o`\"=._; .\" ` '`.\"\\` . \"-._ /_______________|_______\n",
      "            |                   | |o;    `\"-.o`\"=._``  '` \" ,__.--o;   |\n",
      "            |___________________|_| ;     (#) `-.o `\"=.`_.--\"_o.-; ;___|___________________\n",
      "            ____/______/______/___|o;._    \"      `\".o|o_.--\"    ;o;____/______/______/____\n",
      "            /______/______/______/_\"=._o--._        ; | ;        ; ;/______/______/______/_\n",
      "            ____/______/______/______/__\"=._o--._   ;o|o;     _._;o;____/______/______/____\n",
      "            /______/______/______/______/____\"=._o._; | ;_.--\"o.--\"_/______/______/______/_\n",
      "            ____/______/______/______/______/_____\"=.o|o_.--\"\"___/______/______/______/____\n",
      "            /______/______/______/______/______/______/______/______/______/______/_____ /\n",
      "            *******************************************************************************\n",
      "            \n",
      "YOU WON!!\n"
     ]
    }
   ],
   "source": [
    "def disp_treasure():\n",
    "    print('''\n",
    "            *******************************************************************************\n",
    "                      |                   |                  |                     |\n",
    "             _________|________________.=\"\"_;=.______________|_____________________|_______\n",
    "            |                   |  ,-\"_,=\"\"     `\"=.|                  |\n",
    "            |___________________|__\"=._o`\"-._        `\"=.______________|___________________\n",
    "                      |                `\"=._o`\"=._      _`\"=._                     |\n",
    "             _________|_____________________:=._o \"=._.\"_.-=\"'\"=.__________________|_______\n",
    "            |                   |    __.--\" , ; `\"=._o.\" ,-\"\"\"-._ \".   |\n",
    "            |___________________|_._\"  ,. .` ` `` ,  `\"-._\"-._   \". '__|___________________\n",
    "                      |           |o`\"=._` , \"` `; .\". ,  \"-._\"-._; ;              |\n",
    "             _________|___________| ;`-.o`\"=._; .\" ` '`.\"\\` . \"-._ /_______________|_______\n",
    "            |                   | |o;    `\"-.o`\"=._``  '` \" ,__.--o;   |\n",
    "            |___________________|_| ;     (#) `-.o `\"=.`_.--\"_o.-; ;___|___________________\n",
    "            ____/______/______/___|o;._    \"      `\".o|o_.--\"    ;o;____/______/______/____\n",
    "            /______/______/______/_\"=._o--._        ; | ;        ; ;/______/______/______/_\n",
    "            ____/______/______/______/__\"=._o--._   ;o|o;     _._;o;____/______/______/____\n",
    "            /______/______/______/______/____\"=._o._; | ;_.--\"o.--\"_/______/______/______/_\n",
    "            ____/______/______/______/______/_____\"=.o|o_.--\"\"___/______/______/______/____\n",
    "            /______/______/______/______/______/______/______/______/______/______/_____ /\n",
    "            *******************************************************************************\n",
    "            ''')\n",
    "    \n",
    "def start_game():\n",
    "    ch = input(\"You're at a crossroad. Where do you want to go? Type 'left' or 'right'\")\n",
    "    ch = ch.lower()\n",
    "    if ch != 'left':\n",
    "        print(\"Fallen into hole\")\n",
    "        return \"GAME OVER!!\"\n",
    "    else:\n",
    "        print(\"You've come to a lake. There is an island in the middle of the lake.\")\n",
    "        ch = input(\"Type 'wait' to wait for a boat. Type 'swim' to swim across.\")\n",
    "        if ch.lower() != 'wait':\n",
    "            print(\"You get attacked by an angry trout\")\n",
    "            return \"GAME OVER\"\n",
    "        else:\n",
    "            print(\"You arrive at the island unharmed. There is a house with 3 doors. One red, one yellow and one blue. Which colour do you choose?\")\n",
    "            ch = int(input(\"1. RED\\n 2. YELLOW\\n 3. BLUE\\n (1/2/3)?\"))\n",
    "            if ch==1:\n",
    "                print(\"It's a room full of fire.\")\n",
    "                return \"GAME OVER\"\n",
    "            elif ch==2:\n",
    "                print(\"You found the treasure!\")\n",
    "                disp_treasure()\n",
    "                return \"YOU WON!!\"\n",
    "            elif ch==3:\n",
    "                print(\"You enter a room of beasts.\")\n",
    "                return \"GAME OVER\"\n",
    "            else:\n",
    "                print(\"You chose a door that doesn't exist. Game Over.\")\n",
    "                return \"GAME OVER\"\n",
    "\n",
    "\n",
    "print(\"WELCOME to Treasure Island!\")\n",
    "print(\"Your mission is to find the treasure\")\n",
    "print(\"Let'ssss Gooooo...\")\n",
    "print(\"-----------------------------------------\")\n",
    "print(start_game())"
   ]
  },
  {
   "cell_type": "code",
   "execution_count": null,
   "id": "a6298da8-eec3-406a-a886-63c99b5620e0",
   "metadata": {},
   "outputs": [],
   "source": []
  }
 ],
 "metadata": {
  "kernelspec": {
   "display_name": "Python [conda env:base] *",
   "language": "python",
   "name": "conda-base-py"
  },
  "language_info": {
   "codemirror_mode": {
    "name": "ipython",
    "version": 3
   },
   "file_extension": ".py",
   "mimetype": "text/x-python",
   "name": "python",
   "nbconvert_exporter": "python",
   "pygments_lexer": "ipython3",
   "version": "3.12.7"
  }
 },
 "nbformat": 4,
 "nbformat_minor": 5
}
