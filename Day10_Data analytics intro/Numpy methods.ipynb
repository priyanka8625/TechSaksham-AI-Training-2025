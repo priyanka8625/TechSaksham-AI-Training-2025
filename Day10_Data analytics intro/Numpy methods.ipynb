{
 "cells": [
  {
   "cell_type": "markdown",
   "id": "7cf8d57b-b4b6-40c1-bed3-94e64a9d57e0",
   "metadata": {},
   "source": [
    "# Numpy array"
   ]
  },
  {
   "cell_type": "code",
   "execution_count": 27,
   "id": "822f475e-ce5f-48bb-918e-0e8adf82eed1",
   "metadata": {},
   "outputs": [
    {
     "name": "stdout",
     "output_type": "stream",
     "text": [
      "[1 2 1 2]\n"
     ]
    }
   ],
   "source": [
    "import numpy as np\n",
    "a = np.array([1, 2, 1, 2])\n",
    "print(a)"
   ]
  },
  {
   "cell_type": "code",
   "execution_count": 3,
   "id": "03054c2d-eeed-44ca-954d-82e584adccc6",
   "metadata": {},
   "outputs": [
    {
     "name": "stdout",
     "output_type": "stream",
     "text": [
      "[[ 7  9  9  2]\n",
      " [16 11  9  9]]\n"
     ]
    }
   ],
   "source": [
    "import numpy as np\n",
    "b = np.array([(7,9,9,2), (16, 11, 9, 9)])\n",
    "print(b)"
   ]
  },
  {
   "cell_type": "code",
   "execution_count": 5,
   "id": "69676dba-e082-4713-a246-640a7cb5f6da",
   "metadata": {},
   "outputs": [
    {
     "name": "stdout",
     "output_type": "stream",
     "text": [
      "[0 1 2 3 4 5 6 7 8 9]\n",
      "[1.  1.8 2.6 3.4 4.2 5. ]\n"
     ]
    }
   ],
   "source": [
    "c = np.arange(10) # generate set of 10 int from 0\n",
    "d = np.linspace(1, 5, 6) # set of values after splitting the 1 - 5 numbers in 6 equal parts\n",
    "print(c)\n",
    "print(d)"
   ]
  },
  {
   "cell_type": "markdown",
   "id": "71a1cd53-5582-476c-92e8-4b79af54201b",
   "metadata": {},
   "source": [
    "# Properties of numpy array"
   ]
  },
  {
   "cell_type": "code",
   "execution_count": 9,
   "id": "cef78a8b-7f5d-4d4f-a0cf-351eebc32fc5",
   "metadata": {},
   "outputs": [
    {
     "name": "stdout",
     "output_type": "stream",
     "text": [
      "1\n",
      "4\n",
      "int32\n",
      "16\n",
      "4\n",
      "(4,)\n",
      "(2, 4)\n"
     ]
    }
   ],
   "source": [
    "print(a.ndim) #dimension of array\n",
    "print(a.itemsize) #Byte size of each element\n",
    "print(a.dtype) #datatype of array\n",
    "print(a.size*a.itemsize) #memory occupied of whole array\n",
    "print(a.size) #number of elements in array\n",
    "print(a.shape) #shape of array (rows and columns)\n",
    "print(b.shape) #shape of array (rows and columns)"
   ]
  },
  {
   "cell_type": "code",
   "execution_count": 19,
   "id": "8881739d-7258-49dc-8af9-d8e39c207f09",
   "metadata": {},
   "outputs": [
    {
     "name": "stdout",
     "output_type": "stream",
     "text": [
      "[[ 7  9]\n",
      " [ 9  2]\n",
      " [16 11]\n",
      " [ 9  9]]\n",
      "[[ 7  9]\n",
      " [ 9  2]\n",
      " [16 11]\n",
      " [ 9  9]]\n",
      "[[ 7  9  9  2]\n",
      " [16 11  9  9]]\n"
     ]
    }
   ],
   "source": [
    "print(b)\n",
    "b = b.reshape(4, 2)\n",
    "print(b)\n",
    "b = b.reshape(2, 4)\n",
    "print(b)"
   ]
  },
  {
   "cell_type": "code",
   "execution_count": 21,
   "id": "123e333d-06ea-4fa1-b744-cc729568fe08",
   "metadata": {},
   "outputs": [
    {
     "name": "stdout",
     "output_type": "stream",
     "text": [
      "9\n",
      "[9 9]\n"
     ]
    }
   ],
   "source": [
    "print(b[0, 2]) #slicing the exact 0th row 2nd coln element\n",
    "print(b[0:, 2]) #slicing all the elements from 0th row but only of 2nd column"
   ]
  },
  {
   "cell_type": "code",
   "execution_count": 23,
   "id": "617697fc-988b-49f0-9f75-2282a3610af2",
   "metadata": {},
   "outputs": [
    {
     "name": "stdout",
     "output_type": "stream",
     "text": [
      "[1 0 1 0]\n",
      "0\n",
      "1\n",
      "2\n"
     ]
    }
   ],
   "source": [
    "print(a)\n",
    "print(a.min())\n",
    "print(a.max())\n",
    "print(a.sum())"
   ]
  },
  {
   "cell_type": "code",
   "execution_count": 29,
   "id": "24b7ab4c-cff8-4aff-8f0c-190c16a2e376",
   "metadata": {},
   "outputs": [
    {
     "name": "stdout",
     "output_type": "stream",
     "text": [
      "[1 2 1 2]\n",
      "[[ 7  9  9  2]\n",
      " [16 11  9  9]]\n",
      "[23 20 18 11]\n",
      "[27 45]\n",
      "[1.         1.41421356 1.         1.41421356]\n",
      "0.5\n",
      "[2.71828183 7.3890561  2.71828183 7.3890561 ]\n",
      "[0.         0.69314718 0.         0.69314718]\n",
      "[0.      0.30103 0.      0.30103]\n"
     ]
    }
   ],
   "source": [
    "print(a)\n",
    "print(b)\n",
    "\n",
    "print(b.sum(axis=0)) \n",
    "print(b.sum(axis=1)) \n",
    "print(np.sqrt(a)) #square root of each element of array\n",
    "print(np.std(a)) # standard deviation of array\n",
    "print(np.exp(a)) # exponential of array\n",
    "print(np.log(a)) #natural log - ln\n",
    "print(np.log10(a)) #log base 10"
   ]
  },
  {
   "cell_type": "code",
   "execution_count": 31,
   "id": "574a7c7f-c5d0-4d9e-86ab-f0f8a97274a7",
   "metadata": {},
   "outputs": [
    {
     "name": "stdout",
     "output_type": "stream",
     "text": [
      "[[ 7  9  9  2]\n",
      " [16 11  9  9]\n",
      " [ 1  2  3  4]\n",
      " [ 5  6  7  8]]\n",
      "[[ 7  9  9  2  1  2  3  4]\n",
      " [16 11  9  9  5  6  7  8]]\n",
      "[ 7  9  9  2 16 11  9  9]\n"
     ]
    }
   ],
   "source": [
    "f = np.array([(1, 2, 3, 4), (5, 6, 7, 8)])\n",
    "print(np.vstack((b, f))) # vertical stack\n",
    "print(np.hstack((b, f))) # horizontal stack\n",
    "print(b.ravel()) # convert to single dimension"
   ]
  },
  {
   "cell_type": "markdown",
   "id": "8c22efc6-102b-4b61-a676-91db30187be6",
   "metadata": {},
   "source": [
    "# Three dimensional array"
   ]
  },
  {
   "cell_type": "code",
   "execution_count": 34,
   "id": "602e2067-97ed-4c06-b503-5590e6a9bc3e",
   "metadata": {},
   "outputs": [
    {
     "name": "stdout",
     "output_type": "stream",
     "text": [
      "[[[ 1  2  3]\n",
      "  [ 4  5  6]]\n",
      "\n",
      " [[-1 -2 -3]\n",
      "  [-4 -5 -6]]]\n"
     ]
    }
   ],
   "source": [
    "threeDArray = np.array([\n",
    "    [[1, 2, 3], [4, 5, 6]],\n",
    "    [[-1, -2, -3], [-4, -5, -6]]\n",
    "])\n",
    "print(threeDArray)"
   ]
  },
  {
   "cell_type": "code",
   "execution_count": 36,
   "id": "8177c2a3-37ee-41fc-8873-0c0c375e0289",
   "metadata": {},
   "outputs": [
    {
     "name": "stdout",
     "output_type": "stream",
     "text": [
      "int32\n",
      "int32\n",
      "int32\n"
     ]
    }
   ],
   "source": [
    "print(a.dtype)\n",
    "print(b.dtype)\n",
    "print(threeDArray.dtype)"
   ]
  },
  {
   "cell_type": "code",
   "execution_count": 38,
   "id": "2bd15ac8-c0a3-4c4b-8b35-cc2d0befea61",
   "metadata": {},
   "outputs": [
    {
     "name": "stdout",
     "output_type": "stream",
     "text": [
      "(4,)\n",
      "(2, 4)\n",
      "(2, 2, 3)\n"
     ]
    }
   ],
   "source": [
    "print(a.shape)\n",
    "print(b.shape)\n",
    "print(threeDArray.shape)"
   ]
  },
  {
   "cell_type": "code",
   "execution_count": 40,
   "id": "aa7fe612-dc7f-4d60-9874-3c18c0b28322",
   "metadata": {},
   "outputs": [
    {
     "name": "stdout",
     "output_type": "stream",
     "text": [
      "4\n",
      "8\n",
      "12\n"
     ]
    }
   ],
   "source": [
    "print(a.size)\n",
    "print(b.size)\n",
    "print(threeDArray.size)"
   ]
  },
  {
   "cell_type": "code",
   "execution_count": 48,
   "id": "5546e9a5-cd06-4e6e-bc54-755cf16357e4",
   "metadata": {},
   "outputs": [
    {
     "name": "stdout",
     "output_type": "stream",
     "text": [
      "[ 1  2  3  4  5  6 -1 -2 -3 -4 -5 -6]\n",
      "[ 1  2  3  4  5  6 -1 -2 -3 -4 -5 -6]\n"
     ]
    }
   ],
   "source": [
    "print(threeDArray.flatten()) #converts in single dimension\n",
    "print(threeDArray.ravel())"
   ]
  },
  {
   "cell_type": "code",
   "execution_count": 46,
   "id": "73d20247-3ef0-45a3-8e6b-16d4f750ae8a",
   "metadata": {},
   "outputs": [
    {
     "name": "stdout",
     "output_type": "stream",
     "text": [
      "[ 7  9  9  2 16 11  9  9]\n"
     ]
    }
   ],
   "source": [
    "print(b.flatten())"
   ]
  },
  {
   "cell_type": "code",
   "execution_count": 56,
   "id": "ad0652a6-7fa7-4cb6-8c15-4a17ba372481",
   "metadata": {},
   "outputs": [
    {
     "name": "stdout",
     "output_type": "stream",
     "text": [
      "[0. 0. 0. 0. 0.]\n"
     ]
    }
   ],
   "source": [
    "zeros = np.zeros(5) #array with all 0s of given size\n",
    "print(zeros)"
   ]
  },
  {
   "cell_type": "code",
   "execution_count": 58,
   "id": "bbbb3e9d-cd99-44df-9014-94dd070fa32c",
   "metadata": {},
   "outputs": [
    {
     "name": "stdout",
     "output_type": "stream",
     "text": [
      "[1. 1. 1. 1. 1. 1. 1. 1.]\n"
     ]
    }
   ],
   "source": [
    "ones = np.ones(8) #array with all 1s of given size\n",
    "print(ones)"
   ]
  },
  {
   "cell_type": "code",
   "execution_count": 60,
   "id": "6e295b9f-2f7b-4fc5-a521-055dfb503436",
   "metadata": {},
   "outputs": [
    {
     "name": "stdout",
     "output_type": "stream",
     "text": [
      "[1 1 1 1 1 1 1 1]\n"
     ]
    }
   ],
   "source": [
    "ones = ones.astype(int) #type casting\n",
    "print(ones)"
   ]
  },
  {
   "cell_type": "code",
   "execution_count": 62,
   "id": "31227535-cbd4-45d3-8a9a-551e393ce7ac",
   "metadata": {},
   "outputs": [
    {
     "name": "stdout",
     "output_type": "stream",
     "text": [
      "[5.6 6.6 7.6 8.6 9.6]\n"
     ]
    }
   ],
   "source": [
    "ranges = np.arange(5.6, 9.8) #arange takes decimal values unlike range\n",
    "print(ranges)"
   ]
  },
  {
   "cell_type": "code",
   "execution_count": 64,
   "id": "43b6a151-a16e-412a-bb64-152c4c3e2c1d",
   "metadata": {},
   "outputs": [
    {
     "name": "stdout",
     "output_type": "stream",
     "text": [
      "Help on _ArrayFunctionDispatcher in module numpy:\n",
      "\n",
      "linspace(start, stop, num=50, endpoint=True, retstep=False, dtype=None, axis=0)\n",
      "    Return evenly spaced numbers over a specified interval.\n",
      "\n",
      "    Returns `num` evenly spaced samples, calculated over the\n",
      "    interval [`start`, `stop`].\n",
      "\n",
      "    The endpoint of the interval can optionally be excluded.\n",
      "\n",
      "    .. versionchanged:: 1.16.0\n",
      "        Non-scalar `start` and `stop` are now supported.\n",
      "\n",
      "    .. versionchanged:: 1.20.0\n",
      "        Values are rounded towards ``-inf`` instead of ``0`` when an\n",
      "        integer ``dtype`` is specified. The old behavior can\n",
      "        still be obtained with ``np.linspace(start, stop, num).astype(int)``\n",
      "\n",
      "    Parameters\n",
      "    ----------\n",
      "    start : array_like\n",
      "        The starting value of the sequence.\n",
      "    stop : array_like\n",
      "        The end value of the sequence, unless `endpoint` is set to False.\n",
      "        In that case, the sequence consists of all but the last of ``num + 1``\n",
      "        evenly spaced samples, so that `stop` is excluded.  Note that the step\n",
      "        size changes when `endpoint` is False.\n",
      "    num : int, optional\n",
      "        Number of samples to generate. Default is 50. Must be non-negative.\n",
      "    endpoint : bool, optional\n",
      "        If True, `stop` is the last sample. Otherwise, it is not included.\n",
      "        Default is True.\n",
      "    retstep : bool, optional\n",
      "        If True, return (`samples`, `step`), where `step` is the spacing\n",
      "        between samples.\n",
      "    dtype : dtype, optional\n",
      "        The type of the output array.  If `dtype` is not given, the data type\n",
      "        is inferred from `start` and `stop`. The inferred dtype will never be\n",
      "        an integer; `float` is chosen even if the arguments would produce an\n",
      "        array of integers.\n",
      "\n",
      "        .. versionadded:: 1.9.0\n",
      "\n",
      "    axis : int, optional\n",
      "        The axis in the result to store the samples.  Relevant only if start\n",
      "        or stop are array-like.  By default (0), the samples will be along a\n",
      "        new axis inserted at the beginning. Use -1 to get an axis at the end.\n",
      "\n",
      "        .. versionadded:: 1.16.0\n",
      "\n",
      "    Returns\n",
      "    -------\n",
      "    samples : ndarray\n",
      "        There are `num` equally spaced samples in the closed interval\n",
      "        ``[start, stop]`` or the half-open interval ``[start, stop)``\n",
      "        (depending on whether `endpoint` is True or False).\n",
      "    step : float, optional\n",
      "        Only returned if `retstep` is True\n",
      "\n",
      "        Size of spacing between samples.\n",
      "\n",
      "\n",
      "    See Also\n",
      "    --------\n",
      "    arange : Similar to `linspace`, but uses a step size (instead of the\n",
      "             number of samples).\n",
      "    geomspace : Similar to `linspace`, but with numbers spaced evenly on a log\n",
      "                scale (a geometric progression).\n",
      "    logspace : Similar to `geomspace`, but with the end points specified as\n",
      "               logarithms.\n",
      "    :ref:`how-to-partition`\n",
      "\n",
      "    Examples\n",
      "    --------\n",
      "    >>> np.linspace(2.0, 3.0, num=5)\n",
      "    array([2.  , 2.25, 2.5 , 2.75, 3.  ])\n",
      "    >>> np.linspace(2.0, 3.0, num=5, endpoint=False)\n",
      "    array([2. ,  2.2,  2.4,  2.6,  2.8])\n",
      "    >>> np.linspace(2.0, 3.0, num=5, retstep=True)\n",
      "    (array([2.  ,  2.25,  2.5 ,  2.75,  3.  ]), 0.25)\n",
      "\n",
      "    Graphical illustration:\n",
      "\n",
      "    >>> import matplotlib.pyplot as plt\n",
      "    >>> N = 8\n",
      "    >>> y = np.zeros(N)\n",
      "    >>> x1 = np.linspace(0, 10, N, endpoint=True)\n",
      "    >>> x2 = np.linspace(0, 10, N, endpoint=False)\n",
      "    >>> plt.plot(x1, y, 'o')\n",
      "    [<matplotlib.lines.Line2D object at 0x...>]\n",
      "    >>> plt.plot(x2, y + 0.5, 'o')\n",
      "    [<matplotlib.lines.Line2D object at 0x...>]\n",
      "    >>> plt.ylim([-0.5, 1])\n",
      "    (-0.5, 1)\n",
      "    >>> plt.show()\n",
      "\n"
     ]
    }
   ],
   "source": [
    "help(np.linspace)"
   ]
  },
  {
   "cell_type": "markdown",
   "id": "f292e6ba-056b-45f2-9804-31dab2b9c8f4",
   "metadata": {},
   "source": [
    "# Scalar Operation"
   ]
  },
  {
   "cell_type": "code",
   "execution_count": 66,
   "id": "ffdcae1c-cb4c-4c4c-8c60-0e5eca5031b1",
   "metadata": {},
   "outputs": [
    {
     "name": "stdout",
     "output_type": "stream",
     "text": [
      "[[76 34 89]\n",
      " [23 34 45]]\n"
     ]
    }
   ],
   "source": [
    "matrix = np.array([[76, 34, 89], [23, 34, 45]])\n",
    "print(matrix)"
   ]
  },
  {
   "cell_type": "code",
   "execution_count": 68,
   "id": "1064e4c8-ea8f-48f2-965c-a5cc756da214",
   "metadata": {},
   "outputs": [
    {
     "name": "stdout",
     "output_type": "stream",
     "text": [
      "[[78 36 91]\n",
      " [25 36 47]]\n"
     ]
    }
   ],
   "source": [
    "print(matrix + 2)"
   ]
  },
  {
   "cell_type": "code",
   "execution_count": 71,
   "id": "b49df772-2682-4ffc-aeab-d80c32b94cc5",
   "metadata": {},
   "outputs": [
    {
     "name": "stdout",
     "output_type": "stream",
     "text": [
      "[[152  68 178]\n",
      " [ 46  68  90]]\n"
     ]
    }
   ],
   "source": [
    "print(matrix * 2)"
   ]
  },
  {
   "cell_type": "code",
   "execution_count": 73,
   "id": "03fe25a0-680f-4b32-9543-b286d27227be",
   "metadata": {},
   "outputs": [
    {
     "name": "stdout",
     "output_type": "stream",
     "text": [
      "[[38 17 44]\n",
      " [11 17 22]]\n"
     ]
    }
   ],
   "source": [
    "print(matrix // 2)"
   ]
  },
  {
   "cell_type": "code",
   "execution_count": 75,
   "id": "b59bd43b-0b8e-4e9d-a0f8-c5bdf46b253e",
   "metadata": {},
   "outputs": [
    {
     "name": "stdout",
     "output_type": "stream",
     "text": [
      "[[5776 1156 7921]\n",
      " [ 529 1156 2025]]\n"
     ]
    }
   ],
   "source": [
    "print(matrix ** 2)"
   ]
  },
  {
   "cell_type": "code",
   "execution_count": 77,
   "id": "405e389b-86cd-47d7-bdc6-256fe0723058",
   "metadata": {},
   "outputs": [
    {
     "name": "stdout",
     "output_type": "stream",
     "text": [
      "[[76 23]\n",
      " [34 34]\n",
      " [89 45]]\n"
     ]
    }
   ],
   "source": [
    "print(matrix.T) #transpose matrix"
   ]
  },
  {
   "cell_type": "code",
   "execution_count": 79,
   "id": "281e0df5-0843-4290-8014-457e919ab30d",
   "metadata": {},
   "outputs": [
    {
     "name": "stdout",
     "output_type": "stream",
     "text": [
      "[23 34 45]\n"
     ]
    }
   ],
   "source": [
    "print(matrix[1, ])"
   ]
  },
  {
   "cell_type": "code",
   "execution_count": 83,
   "id": "f1b68444-c30f-4845-9ce0-6ee175c20a31",
   "metadata": {},
   "outputs": [
    {
     "name": "stdout",
     "output_type": "stream",
     "text": [
      "[5 5 5 5 5 5 5 5 5 5]\n",
      "[[10 10]\n",
      " [10 10]]\n",
      "[[[5 5 5 5]\n",
      "  [5 5 5 5]\n",
      "  [5 5 5 5]\n",
      "  [5 5 5 5]\n",
      "  [5 5 5 5]]\n",
      "\n",
      " [[5 5 5 5]\n",
      "  [5 5 5 5]\n",
      "  [5 5 5 5]\n",
      "  [5 5 5 5]\n",
      "  [5 5 5 5]]]\n"
     ]
    }
   ],
   "source": [
    "## creating an array with the specific value\n",
    "full = np.full(10, 5)\n",
    "print(full)\n",
    "print(np.full((2, 2), 10))\n",
    "print(np.full((2, 5, 4), 5))"
   ]
  },
  {
   "cell_type": "code",
   "execution_count": 85,
   "id": "1cbac7af-5821-4784-8c9d-425f6590502f",
   "metadata": {},
   "outputs": [],
   "source": [
    "mat1 = np.array([[1, 2, 3], [4, 5, 6]])\n",
    "mat2 = np.array([[1, 2, 3], [4, 5, 6]])"
   ]
  },
  {
   "cell_type": "code",
   "execution_count": 89,
   "id": "9a8911d9-85b1-4fcc-9b1f-b2e5787606c6",
   "metadata": {},
   "outputs": [
    {
     "name": "stdout",
     "output_type": "stream",
     "text": [
      "[[ 2  4  6]\n",
      " [ 8 10 12]]\n"
     ]
    }
   ],
   "source": [
    "print(mat1 + mat2) #shape must be same"
   ]
  },
  {
   "cell_type": "code",
   "execution_count": 91,
   "id": "28fad30b-1039-43ce-8d20-84b253aed091",
   "metadata": {},
   "outputs": [
    {
     "name": "stdout",
     "output_type": "stream",
     "text": [
      "[[0 0 0]\n",
      " [0 0 0]]\n"
     ]
    }
   ],
   "source": [
    "print(mat1 - mat2)"
   ]
  },
  {
   "cell_type": "code",
   "execution_count": 93,
   "id": "6682df94-c1b0-4e51-9666-b78e8cc73423",
   "metadata": {},
   "outputs": [
    {
     "name": "stdout",
     "output_type": "stream",
     "text": [
      "[[ 1  4  9]\n",
      " [16 25 36]]\n"
     ]
    }
   ],
   "source": [
    "print(mat1 * mat2)"
   ]
  },
  {
   "cell_type": "code",
   "execution_count": 95,
   "id": "b98f61ee-943b-48d6-b821-3bb96f8de798",
   "metadata": {},
   "outputs": [
    {
     "name": "stdout",
     "output_type": "stream",
     "text": [
      "[[1. 1. 1.]\n",
      " [1. 1. 1.]]\n"
     ]
    }
   ],
   "source": [
    "print(mat1 / mat2)"
   ]
  },
  {
   "cell_type": "code",
   "execution_count": 101,
   "id": "f24c228b-6dba-409b-9a74-a5db031c52f6",
   "metadata": {},
   "outputs": [],
   "source": [
    "mat1 = np.array([[1, 2], [2, 3], [3, 4]])\n",
    "mat2 = np.array([[1, 2], [3, 4]])"
   ]
  },
  {
   "cell_type": "code",
   "execution_count": 103,
   "id": "abd18539-ded5-428b-ba77-d704263cc7a4",
   "metadata": {},
   "outputs": [
    {
     "name": "stdout",
     "output_type": "stream",
     "text": [
      "[[ 7 10]\n",
      " [11 16]\n",
      " [15 22]]\n"
     ]
    }
   ],
   "source": [
    "print(np.matmul(mat1, mat2)) #but (n, k)* (k,m) col and row of 1st and 2nd matrix must match"
   ]
  },
  {
   "cell_type": "code",
   "execution_count": 99,
   "id": "899d8480-cb88-4921-8069-45c816d29ce7",
   "metadata": {},
   "outputs": [],
   "source": [
    "marks = np.array([\n",
    "    [87, 90, 89], [100, 87, 90],\n",
    "    [94, 77, 90], [100, 86, 98]\n",
    "])"
   ]
  },
  {
   "cell_type": "code",
   "execution_count": 107,
   "id": "7b7de340-d3b5-4f35-83b1-932a24abd4be",
   "metadata": {},
   "outputs": [
    {
     "name": "stdout",
     "output_type": "stream",
     "text": [
      "77\n",
      "100\n",
      "1088\n",
      "90.66666666666667\n",
      "6.315765107165473\n"
     ]
    }
   ],
   "source": [
    "print(marks.min())\n",
    "print(marks.max())\n",
    "print(marks.sum())\n",
    "print(marks.mean())\n",
    "print(marks.std())"
   ]
  },
  {
   "cell_type": "markdown",
   "id": "b1b43ee7-68e2-4aa2-91c2-d7bd77f6dfd6",
   "metadata": {},
   "source": [
    "## Row and column wise operations"
   ]
  },
  {
   "cell_type": "code",
   "execution_count": 112,
   "id": "b3276b11-b4cb-4ae4-8bb8-e30a02ecd99c",
   "metadata": {},
   "outputs": [
    {
     "name": "stdout",
     "output_type": "stream",
     "text": [
      "[87 87 77 86]\n",
      "[ 90 100  94 100]\n",
      "[266 277 261 284]\n",
      "[88.66666667 92.33333333 87.         94.66666667]\n",
      "[1.24721913 5.55777733 7.25718035 6.18241233]\n"
     ]
    }
   ],
   "source": [
    "# axis 1 means row wise\n",
    "print(marks.min(axis = 1))\n",
    "print(marks.max(axis = 1))\n",
    "print(marks.sum(axis = 1))\n",
    "print(marks.mean(axis = 1))\n",
    "print(marks.std(axis = 1))"
   ]
  },
  {
   "cell_type": "code",
   "execution_count": 115,
   "id": "ab2919d7-68ae-4053-8b87-7d420d8572b1",
   "metadata": {},
   "outputs": [
    {
     "name": "stdout",
     "output_type": "stream",
     "text": [
      "[87 77 89]\n",
      "[100  90  98]\n",
      "[381 340 367]\n",
      "[95.25 85.   91.75]\n",
      "[5.35607132 4.84767986 3.63145976]\n"
     ]
    }
   ],
   "source": [
    "# axis 0 means column wise\n",
    "print(marks.min(axis = 0))\n",
    "print(marks.max(axis = 0))\n",
    "print(marks.sum(axis = 0))\n",
    "print(marks.mean(axis = 0))\n",
    "print(marks.std(axis = 0))"
   ]
  },
  {
   "cell_type": "markdown",
   "id": "c02d6536-4800-41f9-a9ac-05dfeb0376c0",
   "metadata": {},
   "source": [
    "## append operation"
   ]
  },
  {
   "cell_type": "code",
   "execution_count": 120,
   "id": "74d335a7-4357-4e0c-a8b6-6eeb2e0028ce",
   "metadata": {},
   "outputs": [],
   "source": [
    "x = np.array([[1, 2, 3, 4], [1, 2, 3, 4]])\n",
    "y = np.array([[1, 2, 3, 4], [1, 2, 3, 4]])"
   ]
  },
  {
   "cell_type": "code",
   "execution_count": 124,
   "id": "0d8829b6-b7f0-4d9e-b1c9-37fb30c5cf38",
   "metadata": {},
   "outputs": [
    {
     "name": "stdout",
     "output_type": "stream",
     "text": [
      "[[1 2 3 4 1 2 3 4]\n",
      " [1 2 3 4 1 2 3 4]]\n"
     ]
    }
   ],
   "source": [
    "print(np.hstack((x, y)))"
   ]
  },
  {
   "cell_type": "code",
   "execution_count": 126,
   "id": "d55069ab-570e-45a1-9a96-7fbd4be9de11",
   "metadata": {},
   "outputs": [
    {
     "name": "stdout",
     "output_type": "stream",
     "text": [
      "[[1 2 3 4]\n",
      " [1 2 3 4]\n",
      " [1 2 3 4]\n",
      " [1 2 3 4]]\n"
     ]
    }
   ],
   "source": [
    "print(np.vstack((x, y)))"
   ]
  },
  {
   "cell_type": "code",
   "execution_count": 132,
   "id": "ac84dee9-fc9a-4cb4-a0e4-4acd973309be",
   "metadata": {},
   "outputs": [
    {
     "name": "stdout",
     "output_type": "stream",
     "text": [
      "[1 2 3 4 1 2 3 4 2 3]\n",
      "[[1 2 3 4]\n",
      " [1 2 3 4]]\n"
     ]
    }
   ],
   "source": [
    "print(np.append(x, (2, 3))) # creates a new array, won't update existing one\n",
    "print(x)"
   ]
  },
  {
   "cell_type": "code",
   "execution_count": 134,
   "id": "c74e0366-fa6b-4cf7-94ec-6b286ef947ac",
   "metadata": {},
   "outputs": [],
   "source": [
    "new_array = np.array([1, 2, 3])"
   ]
  },
  {
   "cell_type": "code",
   "execution_count": 138,
   "id": "e99a2a15-05b4-44b4-bc3b-e529fd22da72",
   "metadata": {},
   "outputs": [
    {
     "name": "stdout",
     "output_type": "stream",
     "text": [
      "[[1 2 3]\n",
      " [4 5 6]\n",
      " [1 2 3]\n",
      " [1 2 3]]\n"
     ]
    }
   ],
   "source": [
    "x = np.append([[1, 2, 3], [4, 5, 6]], [[1, 2, 3], new_array], axis=0)\n",
    "print(x)"
   ]
  },
  {
   "cell_type": "code",
   "execution_count": 140,
   "id": "d4ceafe5-714c-4215-8a9b-aadfe5437e61",
   "metadata": {},
   "outputs": [
    {
     "name": "stdout",
     "output_type": "stream",
     "text": [
      "[[1 2 3 1 2 3]\n",
      " [4 5 6 1 2 3]]\n"
     ]
    }
   ],
   "source": [
    "x = np.append([[1, 2, 3], [4, 5, 6]], [[1, 2, 3], new_array], axis=1)\n",
    "print(x)"
   ]
  },
  {
   "cell_type": "code",
   "execution_count": 142,
   "id": "f43093da-a4e8-4221-9706-31f0e626e63e",
   "metadata": {},
   "outputs": [
    {
     "data": {
      "text/plain": [
       "array([[1, 4],\n",
       "       [2, 5],\n",
       "       [3, 6],\n",
       "       [1, 1],\n",
       "       [2, 2],\n",
       "       [3, 3]])"
      ]
     },
     "execution_count": 142,
     "metadata": {},
     "output_type": "execute_result"
    }
   ],
   "source": [
    "np.transpose(x)"
   ]
  },
  {
   "cell_type": "code",
   "execution_count": 144,
   "id": "76be6b73-3e62-445a-b6b4-0c2828e81829",
   "metadata": {},
   "outputs": [
    {
     "data": {
      "text/plain": [
       "array([[1, 4],\n",
       "       [2, 5],\n",
       "       [3, 6],\n",
       "       [1, 1],\n",
       "       [2, 2],\n",
       "       [3, 3]])"
      ]
     },
     "execution_count": 144,
     "metadata": {},
     "output_type": "execute_result"
    }
   ],
   "source": [
    "x.T"
   ]
  },
  {
   "cell_type": "markdown",
   "id": "046c7b25-c9d6-4101-9871-baf385f95bef",
   "metadata": {},
   "source": [
    "## Boolean Indexing "
   ]
  },
  {
   "cell_type": "code",
   "execution_count": 147,
   "id": "667c942d-aada-472c-8bd7-a4db96ad3622",
   "metadata": {},
   "outputs": [
    {
     "name": "stdout",
     "output_type": "stream",
     "text": [
      "[0 1 2 3 4 5 6]\n"
     ]
    }
   ],
   "source": [
    "arr = np.arange(7)\n",
    "print(arr)"
   ]
  },
  {
   "cell_type": "code",
   "execution_count": 149,
   "id": "d237f531-7b83-4a22-838b-8e9eda299bc8",
   "metadata": {},
   "outputs": [
    {
     "data": {
      "text/plain": [
       "array([False, False, False, False, False, False, False])"
      ]
     },
     "execution_count": 149,
     "metadata": {},
     "output_type": "execute_result"
    }
   ],
   "source": [
    "arr>7"
   ]
  },
  {
   "cell_type": "code",
   "execution_count": 153,
   "id": "ee732404-b7e8-4183-95c0-f9d452d9dadb",
   "metadata": {},
   "outputs": [
    {
     "data": {
      "text/plain": [
       "array([False, False, False, False, False,  True,  True])"
      ]
     },
     "execution_count": 153,
     "metadata": {},
     "output_type": "execute_result"
    }
   ],
   "source": [
    "arr>4"
   ]
  },
  {
   "cell_type": "code",
   "execution_count": 151,
   "id": "3e5b785f-9878-4046-bdca-4e575a277ed7",
   "metadata": {},
   "outputs": [
    {
     "data": {
      "text/plain": [
       "array([5, 6])"
      ]
     },
     "execution_count": 151,
     "metadata": {},
     "output_type": "execute_result"
    }
   ],
   "source": [
    "arr[arr>4]"
   ]
  },
  {
   "cell_type": "code",
   "execution_count": 159,
   "id": "138f95c3-90c1-44f9-922e-17567a8131a9",
   "metadata": {},
   "outputs": [
    {
     "data": {
      "text/plain": [
       "array([[[ 0,  1],\n",
       "        [ 2,  3],\n",
       "        [ 4,  5]],\n",
       "\n",
       "       [[ 6,  7],\n",
       "        [ 8,  9],\n",
       "        [10, 11]]])"
      ]
     },
     "execution_count": 159,
     "metadata": {},
     "output_type": "execute_result"
    }
   ],
   "source": [
    "np.arange(12).reshape((2, 3, 2))"
   ]
  },
  {
   "cell_type": "code",
   "execution_count": 165,
   "id": "02c6beda-56bc-461f-b43e-14e490a86230",
   "metadata": {},
   "outputs": [
    {
     "data": {
      "text/plain": [
       "array([[18, 17, 16, 12, 16],\n",
       "       [12, 18, 18, 19, 11],\n",
       "       [14, 12, 15, 17, 10],\n",
       "       [17, 14, 17, 11, 12],\n",
       "       [13, 19, 14, 14, 14]])"
      ]
     },
     "execution_count": 165,
     "metadata": {},
     "output_type": "execute_result"
    }
   ],
   "source": [
    "np.random.randint(10, 20, (5, 5)) # start, stop, shape for randint"
   ]
  },
  {
   "cell_type": "code",
   "execution_count": 177,
   "id": "7af2a976-83e0-4136-a35e-e0f381f834bb",
   "metadata": {},
   "outputs": [],
   "source": [
    "letters = list(set(\"AEIOU\"))"
   ]
  },
  {
   "cell_type": "code",
   "execution_count": 179,
   "id": "9d2c7c49-7101-434b-be17-7265b3811dad",
   "metadata": {},
   "outputs": [
    {
     "data": {
      "text/plain": [
       "array(['A', 'E', 'U', 'E', 'O'], dtype='<U1')"
      ]
     },
     "execution_count": 179,
     "metadata": {},
     "output_type": "execute_result"
    }
   ],
   "source": [
    "np.random.choice(letters, 5)"
   ]
  },
  {
   "cell_type": "code",
   "execution_count": 181,
   "id": "c0785dff-e231-4dd2-aa74-8fdfbc8929fc",
   "metadata": {},
   "outputs": [
    {
     "data": {
      "text/plain": [
       "array(['O', 'U', 'A', 'E', 'I'], dtype='<U1')"
      ]
     },
     "execution_count": 181,
     "metadata": {},
     "output_type": "execute_result"
    }
   ],
   "source": [
    "np.random.choice(letters, 5, replace=False)"
   ]
  },
  {
   "cell_type": "code",
   "execution_count": 185,
   "id": "96a21ee8-06f1-4e5a-8e3b-52b7e0c3dad0",
   "metadata": {},
   "outputs": [
    {
     "data": {
      "text/plain": [
       "array(['O', 'O', 'E', 'A', 'O', 'E', 'O', 'U', 'E', 'E', 'E', 'O', 'E',\n",
       "       'O', 'A'], dtype='<U1')"
      ]
     },
     "execution_count": 185,
     "metadata": {},
     "output_type": "execute_result"
    }
   ],
   "source": [
    "np.random.choice(letters, 15, p=[0.4, 0.3, 0.1, 0.1, 0.1]) #probabilities"
   ]
  },
  {
   "cell_type": "code",
   "execution_count": null,
   "id": "855ee61b-a75f-4fac-bf24-f0604bdfe90d",
   "metadata": {},
   "outputs": [],
   "source": [
    "array = np.random.randint(10, 20, (5, 5))\n",
    "np.save("
   ]
  }
 ],
 "metadata": {
  "kernelspec": {
   "display_name": "Python [conda env:base] *",
   "language": "python",
   "name": "conda-base-py"
  },
  "language_info": {
   "codemirror_mode": {
    "name": "ipython",
    "version": 3
   },
   "file_extension": ".py",
   "mimetype": "text/x-python",
   "name": "python",
   "nbconvert_exporter": "python",
   "pygments_lexer": "ipython3",
   "version": "3.12.7"
  }
 },
 "nbformat": 4,
 "nbformat_minor": 5
}
