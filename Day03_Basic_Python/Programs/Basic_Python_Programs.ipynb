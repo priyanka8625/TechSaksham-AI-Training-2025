{
 "cells": [
  {
   "cell_type": "markdown",
   "id": "ccec6f07-40c9-4364-982b-df450746e193",
   "metadata": {},
   "source": [
    "# Basic Python Operations"
   ]
  },
  {
   "cell_type": "code",
   "execution_count": 1,
   "id": "5dc7396a-8438-4ce9-a44a-e02cba555623",
   "metadata": {},
   "outputs": [
    {
     "name": "stdout",
     "output_type": "stream",
     "text": [
      "Hello\n"
     ]
    }
   ],
   "source": [
    "print(\"Hello\")"
   ]
  },
  {
   "cell_type": "code",
   "execution_count": 3,
   "id": "e3540de2-f1c5-4eca-89c2-4418713532ef",
   "metadata": {},
   "outputs": [
    {
     "name": "stdout",
     "output_type": "stream",
     "text": [
      "Priyanka Sundalam\n"
     ]
    }
   ],
   "source": [
    "print (\"Priyanka Sundalam\")"
   ]
  },
  {
   "cell_type": "markdown",
   "id": "4b86b2b6-7260-4444-a11c-563f6f2f602a",
   "metadata": {},
   "source": [
    "# 1. Strings"
   ]
  },
  {
   "cell_type": "code",
   "execution_count": 49,
   "id": "fb8f4b88-2067-47c8-93d5-bd5229eb02ea",
   "metadata": {},
   "outputs": [],
   "source": [
    "str = \"Priyash\"\n",
    "str1 = \"Priyanka\""
   ]
  },
  {
   "cell_type": "code",
   "execution_count": 67,
   "id": "e5327d5f-62e5-4c47-b85f-bd61580f1059",
   "metadata": {},
   "outputs": [
    {
     "data": {
      "text/plain": [
       "7"
      ]
     },
     "execution_count": 67,
     "metadata": {},
     "output_type": "execute_result"
    }
   ],
   "source": [
    "len(str)"
   ]
  },
  {
   "cell_type": "code",
   "execution_count": 53,
   "id": "72b1f743-d166-43da-81cf-2677e283c89d",
   "metadata": {},
   "outputs": [
    {
     "data": {
      "text/plain": [
       "'P'"
      ]
     },
     "execution_count": 53,
     "metadata": {},
     "output_type": "execute_result"
    }
   ],
   "source": [
    "str1[0]"
   ]
  },
  {
   "cell_type": "code",
   "execution_count": 55,
   "id": "70d14744-704f-4618-80ec-2505920e8b2c",
   "metadata": {},
   "outputs": [
    {
     "data": {
      "text/plain": [
       "'riyanka'"
      ]
     },
     "execution_count": 55,
     "metadata": {},
     "output_type": "execute_result"
    }
   ],
   "source": [
    "str1[1:]"
   ]
  },
  {
   "cell_type": "code",
   "execution_count": 57,
   "id": "ea7c30db-4c98-4127-adaf-6f005cb9d8a4",
   "metadata": {},
   "outputs": [
    {
     "data": {
      "text/plain": [
       "'Priy'"
      ]
     },
     "execution_count": 57,
     "metadata": {},
     "output_type": "execute_result"
    }
   ],
   "source": [
    "str1[:4]"
   ]
  },
  {
   "cell_type": "code",
   "execution_count": 59,
   "id": "25c60ab1-cccc-4d47-a8a6-c18c0aee1e98",
   "metadata": {},
   "outputs": [
    {
     "data": {
      "text/plain": [
       "'hsayirP'"
      ]
     },
     "execution_count": 59,
     "metadata": {},
     "output_type": "execute_result"
    }
   ],
   "source": [
    "str[::-1]"
   ]
  },
  {
   "cell_type": "code",
   "execution_count": 61,
   "id": "9ad89944-0520-498f-81cc-ac0d8b8fc1b5",
   "metadata": {},
   "outputs": [
    {
     "data": {
      "text/plain": [
       "'Priyanka!'"
      ]
     },
     "execution_count": 61,
     "metadata": {},
     "output_type": "execute_result"
    }
   ],
   "source": [
    "str1 + \"!\""
   ]
  },
  {
   "cell_type": "code",
   "execution_count": 63,
   "id": "6463b1ad-0e41-4970-9be2-ba68c537ed3e",
   "metadata": {},
   "outputs": [
    {
     "data": {
      "text/plain": [
       "'PRIYANKA'"
      ]
     },
     "execution_count": 63,
     "metadata": {},
     "output_type": "execute_result"
    }
   ],
   "source": [
    "str1.upper()"
   ]
  },
  {
   "cell_type": "code",
   "execution_count": 65,
   "id": "c09ec49f-2dfd-4621-a021-39eb2182ade7",
   "metadata": {},
   "outputs": [
    {
     "data": {
      "text/plain": [
       "'priyanka'"
      ]
     },
     "execution_count": 65,
     "metadata": {},
     "output_type": "execute_result"
    }
   ],
   "source": [
    "str1.lower()"
   ]
  },
  {
   "cell_type": "code",
   "execution_count": 103,
   "id": "b4ae8ce5-5549-40f2-b4fd-dc555d8f6c62",
   "metadata": {},
   "outputs": [],
   "source": [
    "str1 = \"Priyanka\"\n",
    "str1 = str1 + \" 😘❤️! She is the best!!!\""
   ]
  },
  {
   "cell_type": "code",
   "execution_count": 105,
   "id": "56ca5d30-9596-4f1b-af57-97e8ab98ca58",
   "metadata": {},
   "outputs": [
    {
     "data": {
      "text/plain": [
       "['Priyanka', '😘❤️!', 'She', 'is', 'the', 'best!!!']"
      ]
     },
     "execution_count": 105,
     "metadata": {},
     "output_type": "execute_result"
    }
   ],
   "source": [
    "str1.split()"
   ]
  },
  {
   "cell_type": "code",
   "execution_count": 93,
   "id": "57102d3a-edf5-45d8-b99c-ee90af992bca",
   "metadata": {},
   "outputs": [
    {
     "name": "stdout",
     "output_type": "stream",
     "text": [
      "Enter name here Priyanka and Priyash\n"
     ]
    }
   ],
   "source": [
    "print('Enter name here {} and {}'.format(str1, str))"
   ]
  },
  {
   "cell_type": "code",
   "execution_count": 97,
   "id": "68c78a1b-86c0-437d-88fa-9df0034823c4",
   "metadata": {},
   "outputs": [
    {
     "name": "stdout",
     "output_type": "stream",
     "text": [
      "The colors are light blue, blue, navy blue\n"
     ]
    }
   ],
   "source": [
    "print('The colors are {2}, {0}, {1}'.format('blue', 'navy blue', 'light blue'))"
   ]
  },
  {
   "cell_type": "code",
   "execution_count": 101,
   "id": "30b448a0-fba6-4823-8241-19a76bd60c04",
   "metadata": {},
   "outputs": [
    {
     "name": "stdout",
     "output_type": "stream",
     "text": [
      "First: 19, second:Priyanka, third:21\n"
     ]
    }
   ],
   "source": [
    "print('First: {a}, second:{c}, third:{b}'.format(a=19, b=21, c=str1))"
   ]
  },
  {
   "cell_type": "markdown",
   "id": "a3ed6547-6bea-416c-b057-a455cbe0e4c8",
   "metadata": {},
   "source": [
    "# 2. List"
   ]
  },
  {
   "cell_type": "code",
   "execution_count": 111,
   "id": "93d72502-9e83-436d-9ed3-b7334f8b82da",
   "metadata": {},
   "outputs": [
    {
     "data": {
      "text/plain": [
       "[1, 2, 3, 4, 5]"
      ]
     },
     "execution_count": 111,
     "metadata": {},
     "output_type": "execute_result"
    }
   ],
   "source": [
    "my_list = [1, 2, 3, 4, 5]\n",
    "my_list"
   ]
  },
  {
   "cell_type": "code",
   "execution_count": 136,
   "id": "5f2086d8-95fe-42e3-89c9-278d2986eaa3",
   "metadata": {},
   "outputs": [
    {
     "data": {
      "text/plain": [
       "['Priyanka', 27, 1.68, 'S']"
      ]
     },
     "execution_count": 136,
     "metadata": {},
     "output_type": "execute_result"
    }
   ],
   "source": [
    "my_list = ['Priyanka', 27, 1.68, 'S']\n",
    "my_list"
   ]
  },
  {
   "cell_type": "code",
   "execution_count": 115,
   "id": "717b578b-0b92-46c2-bc13-d98f775d2cd6",
   "metadata": {},
   "outputs": [
    {
     "data": {
      "text/plain": [
       "4"
      ]
     },
     "execution_count": 115,
     "metadata": {},
     "output_type": "execute_result"
    }
   ],
   "source": [
    "len(my_list)"
   ]
  },
  {
   "cell_type": "markdown",
   "id": "7c0ba114-ccfa-4b72-9c69-5c363bf6e0b2",
   "metadata": {},
   "source": [
    "### Indexing and slicing in list"
   ]
  },
  {
   "cell_type": "code",
   "execution_count": 118,
   "id": "c9e1e4c9-0bbf-4b87-8093-aa94dad82dee",
   "metadata": {},
   "outputs": [
    {
     "data": {
      "text/plain": [
       "['Priyanka', 27, 1.68, 'S']"
      ]
     },
     "execution_count": 118,
     "metadata": {},
     "output_type": "execute_result"
    }
   ],
   "source": [
    "my_list"
   ]
  },
  {
   "cell_type": "code",
   "execution_count": 120,
   "id": "e28d119a-e0bd-40db-bebb-52c6748fa9eb",
   "metadata": {},
   "outputs": [
    {
     "data": {
      "text/plain": [
       "'Priyanka'"
      ]
     },
     "execution_count": 120,
     "metadata": {},
     "output_type": "execute_result"
    }
   ],
   "source": [
    "my_list[0]"
   ]
  },
  {
   "cell_type": "code",
   "execution_count": 122,
   "id": "bf1ce5a7-f733-4f5c-ac61-cc71adccdf49",
   "metadata": {},
   "outputs": [
    {
     "data": {
      "text/plain": [
       "['Priyanka', 27, 1.68, 'S']"
      ]
     },
     "execution_count": 122,
     "metadata": {},
     "output_type": "execute_result"
    }
   ],
   "source": [
    "my_list[:]"
   ]
  },
  {
   "cell_type": "code",
   "execution_count": 124,
   "id": "f3d5a031-08a5-43f2-8328-e6a3d2c7437c",
   "metadata": {},
   "outputs": [
    {
     "data": {
      "text/plain": [
       "[27, 1.68, 'S']"
      ]
     },
     "execution_count": 124,
     "metadata": {},
     "output_type": "execute_result"
    }
   ],
   "source": [
    "my_list[1:]"
   ]
  },
  {
   "cell_type": "code",
   "execution_count": 126,
   "id": "7fdd02bf-342c-4930-8202-5cdc38021fbb",
   "metadata": {},
   "outputs": [
    {
     "data": {
      "text/plain": [
       "['Priyanka']"
      ]
     },
     "execution_count": 126,
     "metadata": {},
     "output_type": "execute_result"
    }
   ],
   "source": [
    "my_list[:1]"
   ]
  },
  {
   "cell_type": "code",
   "execution_count": 128,
   "id": "793b94b7-c29a-4651-a060-1c16619fe114",
   "metadata": {},
   "outputs": [
    {
     "data": {
      "text/plain": [
       "['S', 1.68, 27, 'Priyanka']"
      ]
     },
     "execution_count": 128,
     "metadata": {},
     "output_type": "execute_result"
    }
   ],
   "source": [
    "my_list[::-1]"
   ]
  },
  {
   "cell_type": "code",
   "execution_count": 130,
   "id": "18231614-e5a3-4c47-84e7-a9103037c68f",
   "metadata": {},
   "outputs": [
    {
     "data": {
      "text/plain": [
       "['Priyanka', 27, 1.68, 'S', 'new_value']"
      ]
     },
     "execution_count": 130,
     "metadata": {},
     "output_type": "execute_result"
    }
   ],
   "source": [
    "my_list + ['new_value']"
   ]
  },
  {
   "cell_type": "code",
   "execution_count": 138,
   "id": "c073a1f1-3fac-480f-8567-f46ecee6599a",
   "metadata": {},
   "outputs": [
    {
     "data": {
      "text/plain": [
       "['Priyanka', 27, 1.68, 'S', 1010, 2701]"
      ]
     },
     "execution_count": 138,
     "metadata": {},
     "output_type": "execute_result"
    }
   ],
   "source": [
    "my_list += [1010, 2701]\n",
    "my_list"
   ]
  },
  {
   "cell_type": "markdown",
   "id": "fdf6f0b5-7ecb-4e52-a2da-1922543eb259",
   "metadata": {},
   "source": [
    "### Basic list methods"
   ]
  },
  {
   "cell_type": "code",
   "execution_count": 153,
   "id": "53142eba-2bd3-429d-9a58-50516c1f53f0",
   "metadata": {},
   "outputs": [],
   "source": [
    "my_list = ['Priyanka']"
   ]
  },
  {
   "cell_type": "code",
   "execution_count": 155,
   "id": "3795df33-a392-4a0a-9469-8880080d3fdc",
   "metadata": {},
   "outputs": [
    {
     "data": {
      "text/plain": [
       "['Priyanka', 'S']"
      ]
     },
     "execution_count": 155,
     "metadata": {},
     "output_type": "execute_result"
    }
   ],
   "source": [
    "my_list.append('S')\n",
    "my_list"
   ]
  },
  {
   "cell_type": "code",
   "execution_count": 157,
   "id": "c5254026-8e37-415c-b136-bd91192bfbe0",
   "metadata": {},
   "outputs": [
    {
     "data": {
      "text/plain": [
       "['Priyanka', 'S', ['...']]"
      ]
     },
     "execution_count": 157,
     "metadata": {},
     "output_type": "execute_result"
    }
   ],
   "source": [
    "my_list.append(['...'])\n",
    "my_list"
   ]
  },
  {
   "cell_type": "code",
   "execution_count": 159,
   "id": "add1b68f-aa71-4a35-9ef7-60cc8b749d17",
   "metadata": {},
   "outputs": [
    {
     "data": {
      "text/plain": [
       "['...']"
      ]
     },
     "execution_count": 159,
     "metadata": {},
     "output_type": "execute_result"
    }
   ],
   "source": [
    "my_list.pop()"
   ]
  },
  {
   "cell_type": "code",
   "execution_count": 161,
   "id": "c636079c-6d57-4c76-b5cb-3d1201b2e0d6",
   "metadata": {},
   "outputs": [
    {
     "data": {
      "text/plain": [
       "['Priyanka']"
      ]
     },
     "execution_count": 161,
     "metadata": {},
     "output_type": "execute_result"
    }
   ],
   "source": [
    "my_list.pop(1)\n",
    "my_list"
   ]
  },
  {
   "cell_type": "markdown",
   "id": "5ea10581-5e99-4ca1-ac97-25dbf6502885",
   "metadata": {},
   "source": [
    "# 3. Dictinary"
   ]
  },
  {
   "cell_type": "code",
   "execution_count": 179,
   "id": "3adbc944-edc3-4653-a6c8-42c6c7322df8",
   "metadata": {},
   "outputs": [
    {
     "data": {
      "text/plain": [
       "{'name': 'Priyanka', 'nature': 'Sweet', 'bdate': '10-10-2005'}"
      ]
     },
     "execution_count": 179,
     "metadata": {},
     "output_type": "execute_result"
    }
   ],
   "source": [
    "dict = {'name':'Priyanka', 'nature':'Sweet', 'bdate':'10-10-2005'}\n",
    "dict"
   ]
  },
  {
   "cell_type": "code",
   "execution_count": 181,
   "id": "025d6f96-3bbd-426e-a7ee-3de31b4b446a",
   "metadata": {},
   "outputs": [
    {
     "data": {
      "text/plain": [
       "'Priyanka'"
      ]
     },
     "execution_count": 181,
     "metadata": {},
     "output_type": "execute_result"
    }
   ],
   "source": [
    "dict['name']"
   ]
  },
  {
   "cell_type": "code",
   "execution_count": 183,
   "id": "0b352cb5-acb4-4392-a6a9-89c1656fe818",
   "metadata": {},
   "outputs": [
    {
     "data": {
      "text/plain": [
       "{'name': 'Priyanka',\n",
       " 'nature': 'Sweet',\n",
       " 'bdate': '10-10-2005',\n",
       " 27: [21, 1, 2004, 10, 10]}"
      ]
     },
     "execution_count": 183,
     "metadata": {},
     "output_type": "execute_result"
    }
   ],
   "source": [
    "dict[27] = [21, 1, 2004, 10, 10]\n",
    "dict"
   ]
  },
  {
   "cell_type": "code",
   "execution_count": 185,
   "id": "82e71a57-2767-4bcf-bbcd-c9ba719826c0",
   "metadata": {},
   "outputs": [
    {
     "data": {
      "text/plain": [
       "10"
      ]
     },
     "execution_count": 185,
     "metadata": {},
     "output_type": "execute_result"
    }
   ],
   "source": [
    "dict[27][-1]"
   ]
  },
  {
   "cell_type": "code",
   "execution_count": 187,
   "id": "0f0a6209-b235-4211-b314-808e2ffef724",
   "metadata": {},
   "outputs": [
    {
     "data": {
      "text/plain": [
       "{'name': 'Priyanka',\n",
       " 'nature': 'Sweet',\n",
       " 'bdate': '10-10-2005',\n",
       " 27: [21, 1, 2004, 10, 10, 'priyanka']}"
      ]
     },
     "execution_count": 187,
     "metadata": {},
     "output_type": "execute_result"
    }
   ],
   "source": [
    "dict[27].append('priyanka')\n",
    "dict"
   ]
  },
  {
   "cell_type": "code",
   "execution_count": 189,
   "id": "617b39d6-5c66-4fc1-8d78-0a322e588804",
   "metadata": {},
   "outputs": [
    {
     "data": {
      "text/plain": [
       "'PRIYANKA'"
      ]
     },
     "execution_count": 189,
     "metadata": {},
     "output_type": "execute_result"
    }
   ],
   "source": [
    "dict[27][-1].upper()"
   ]
  },
  {
   "cell_type": "markdown",
   "id": "e043cfaf-94eb-4e13-99f4-ccadd2d5312c",
   "metadata": {},
   "source": [
    "# Tuple "
   ]
  },
  {
   "cell_type": "code",
   "execution_count": 200,
   "id": "11b0d816-c6da-4aff-aab4-2dfed5cff55b",
   "metadata": {},
   "outputs": [
    {
     "data": {
      "text/plain": [
       "(10, 10, 2005, 'Priyanka', 'S', 1.68)"
      ]
     },
     "execution_count": 200,
     "metadata": {},
     "output_type": "execute_result"
    }
   ],
   "source": [
    "my_tuple = (10, 10, 2005, 'Priyanka', 'S', 1.68)\n",
    "my_tuple"
   ]
  },
  {
   "cell_type": "code",
   "execution_count": 204,
   "id": "ef52ad66-a797-49cf-b8b9-dea44ef47515",
   "metadata": {},
   "outputs": [
    {
     "data": {
      "text/plain": [
       "6"
      ]
     },
     "execution_count": 204,
     "metadata": {},
     "output_type": "execute_result"
    }
   ],
   "source": [
    "len(my_tuple)"
   ]
  },
  {
   "cell_type": "code",
   "execution_count": 206,
   "id": "f958ce60-16ea-4f7f-9f24-eae04978f6f0",
   "metadata": {},
   "outputs": [
    {
     "data": {
      "text/plain": [
       "(10, 10, 2005, 'Priyanka', 'S', 1.68)"
      ]
     },
     "execution_count": 206,
     "metadata": {},
     "output_type": "execute_result"
    }
   ],
   "source": [
    "my_tuple[:]"
   ]
  },
  {
   "cell_type": "code",
   "execution_count": 208,
   "id": "946179b7-fec3-44c7-a0d2-9ac0e771ebb6",
   "metadata": {},
   "outputs": [
    {
     "data": {
      "text/plain": [
       "(1.68, 'S', 'Priyanka', 2005, 10, 10)"
      ]
     },
     "execution_count": 208,
     "metadata": {},
     "output_type": "execute_result"
    }
   ],
   "source": [
    "my_tuple[::-1]"
   ]
  },
  {
   "cell_type": "code",
   "execution_count": 210,
   "id": "9bd67668-67ee-4dc4-a686-dfda679b6a0b",
   "metadata": {},
   "outputs": [
    {
     "data": {
      "text/plain": [
       "(10, 2005, 'Priyanka', 'S', 1.68)"
      ]
     },
     "execution_count": 210,
     "metadata": {},
     "output_type": "execute_result"
    }
   ],
   "source": [
    "my_tuple[1:]"
   ]
  },
  {
   "cell_type": "code",
   "execution_count": 214,
   "id": "2f019f59-cd7b-434d-a8b0-b2a3bbb54e67",
   "metadata": {},
   "outputs": [
    {
     "data": {
      "text/plain": [
       "('Priyanka',)"
      ]
     },
     "execution_count": 214,
     "metadata": {},
     "output_type": "execute_result"
    }
   ],
   "source": [
    "my_tuple[3:4]"
   ]
  },
  {
   "cell_type": "code",
   "execution_count": 216,
   "id": "3c606e89-2384-4b59-b948-1837d93aba83",
   "metadata": {},
   "outputs": [
    {
     "data": {
      "text/plain": [
       "(10, 10)"
      ]
     },
     "execution_count": 216,
     "metadata": {},
     "output_type": "execute_result"
    }
   ],
   "source": [
    "my_tuple[:2]"
   ]
  },
  {
   "cell_type": "markdown",
   "id": "b79c81ad-093d-4ee1-8c9f-c60d6428fedb",
   "metadata": {},
   "source": [
    "# Set"
   ]
  },
  {
   "cell_type": "code",
   "execution_count": 237,
   "id": "dd93fa8e-2c8a-4d53-b02a-d884e5bcf5c4",
   "metadata": {},
   "outputs": [
    {
     "data": {
      "text/plain": [
       "{1, 10, 2005, 27, 'Priyanka', 'S'}"
      ]
     },
     "execution_count": 237,
     "metadata": {},
     "output_type": "execute_result"
    }
   ],
   "source": [
    "my_set = {10, 10, 27, 1, 2005, 'Priyanka', 'S'}\n",
    "my_set"
   ]
  },
  {
   "cell_type": "code",
   "execution_count": 239,
   "id": "c819b572-f256-4429-b038-82c11a2783b1",
   "metadata": {},
   "outputs": [
    {
     "data": {
      "text/plain": [
       "set"
      ]
     },
     "execution_count": 239,
     "metadata": {},
     "output_type": "execute_result"
    }
   ],
   "source": [
    "type(my_set)"
   ]
  },
  {
   "cell_type": "code",
   "execution_count": 244,
   "id": "15a3981d-eee0-4d20-b59f-a5c4687d584f",
   "metadata": {},
   "outputs": [
    {
     "data": {
      "text/plain": [
       "set()"
      ]
     },
     "execution_count": 244,
     "metadata": {},
     "output_type": "execute_result"
    }
   ],
   "source": [
    "del set\n",
    "s = set()\n",
    "s"
   ]
  },
  {
   "cell_type": "code",
   "execution_count": 246,
   "id": "0ba7a3b3-ca01-4ef7-9313-ad5bfa349e13",
   "metadata": {},
   "outputs": [
    {
     "data": {
      "text/plain": [
       "{1, 2}"
      ]
     },
     "execution_count": 246,
     "metadata": {},
     "output_type": "execute_result"
    }
   ],
   "source": [
    "s.add(1)\n",
    "s.add(2)\n",
    "s"
   ]
  },
  {
   "cell_type": "markdown",
   "id": "2b0a24b1-150f-4de5-b02c-a6f393f1c29a",
   "metadata": {},
   "source": [
    "# if, elif, else statements"
   ]
  },
  {
   "cell_type": "code",
   "execution_count": 250,
   "id": "90f65c82-bb07-4aec-9889-b20c637334ea",
   "metadata": {},
   "outputs": [
    {
     "name": "stdout",
     "output_type": "stream",
     "text": [
      "I'm Awsome!\n"
     ]
    }
   ],
   "source": [
    "if True:\n",
    "    print(\"I'm Awsome!\")"
   ]
  },
  {
   "cell_type": "code",
   "execution_count": 252,
   "id": "5bbb39a3-4ce5-42c4-aa58-e049d5bfcd44",
   "metadata": {},
   "outputs": [
    {
     "name": "stdout",
     "output_type": "stream",
     "text": [
      "I'm Amazing!\n"
     ]
    }
   ],
   "source": [
    "x = False\n",
    "if x:\n",
    "    print(\"I'm Awsome!\")\n",
    "else:\n",
    "    print(\"I'm Amazing!\")"
   ]
  },
  {
   "cell_type": "code",
   "execution_count": null,
   "id": "57bc47f3-bcbb-49fd-b654-88076ff65f53",
   "metadata": {},
   "outputs": [],
   "source": [
    "loc = 'Pune'\n",
    "if loc=='Bangalore':\n",
    "    print('Welcome to Bangalore!')\n",
    "elif loc=='Pune':\n",
    "    print('Welcome to Pune!')\n",
    "else:\n",
    "    print"
   ]
  }
 ],
 "metadata": {
  "kernelspec": {
   "display_name": "Python [conda env:base] *",
   "language": "python",
   "name": "conda-base-py"
  },
  "language_info": {
   "codemirror_mode": {
    "name": "ipython",
    "version": 3
   },
   "file_extension": ".py",
   "mimetype": "text/x-python",
   "name": "python",
   "nbconvert_exporter": "python",
   "pygments_lexer": "ipython3",
   "version": "3.12.7"
  }
 },
 "nbformat": 4,
 "nbformat_minor": 5
}
