{
 "cells": [
  {
   "cell_type": "markdown",
   "id": "ce97dc52-4178-4356-8758-a37e1378bc7c",
   "metadata": {},
   "source": [
    "# Different String operations"
   ]
  },
  {
   "cell_type": "markdown",
   "id": "444194f4-c9b6-4a42-b275-f8f8ec4abc8d",
   "metadata": {},
   "source": [
    "## 1. Reverse string"
   ]
  },
  {
   "cell_type": "code",
   "execution_count": 12,
   "id": "a4af6e19-ef29-4482-a30e-07ed5db5d1b1",
   "metadata": {},
   "outputs": [
    {
     "name": "stdin",
     "output_type": "stream",
     "text": [
      "Enter string: priyanka\n"
     ]
    },
    {
     "name": "stdout",
     "output_type": "stream",
     "text": [
      "aknayirp"
     ]
    }
   ],
   "source": [
    "str = input(\"Enter string:\")\n",
    "for i in range(len(str)-1, -1, -1):\n",
    "    print(str[i], end=\"\")"
   ]
  },
  {
   "cell_type": "markdown",
   "id": "fd360409-41b6-4365-9a1c-833ffd2af436",
   "metadata": {},
   "source": [
    "## 2. Print even indices"
   ]
  },
  {
   "cell_type": "code",
   "execution_count": 14,
   "id": "e73a9f81-0448-48ce-a831-b2d485986a1f",
   "metadata": {},
   "outputs": [
    {
     "name": "stdin",
     "output_type": "stream",
     "text": [
      "Enter string: priyanka\n"
     ]
    },
    {
     "name": "stdout",
     "output_type": "stream",
     "text": [
      "piak"
     ]
    }
   ],
   "source": [
    "str = input(\"Enter string:\")\n",
    "for i in range(0, len(str)):\n",
    "    if i%2 == 0:\n",
    "        print(str[i], end=\"\")"
   ]
  },
  {
   "cell_type": "markdown",
   "id": "4f1ce38b-3657-4731-bac5-26e97f84d4b1",
   "metadata": {},
   "source": [
    "## 3. Print odd indices"
   ]
  },
  {
   "cell_type": "code",
   "execution_count": 17,
   "id": "4464e6b0-c31f-400a-9721-a0d988ee5516",
   "metadata": {},
   "outputs": [
    {
     "name": "stdin",
     "output_type": "stream",
     "text": [
      "Enter string: priyanka\n"
     ]
    },
    {
     "name": "stdout",
     "output_type": "stream",
     "text": [
      "ryna"
     ]
    }
   ],
   "source": [
    "str = input(\"Enter string:\")\n",
    "for i in range(0, len(str)):\n",
    "    if i%2 != 0:\n",
    "        print(str[i], end=\"\")"
   ]
  },
  {
   "cell_type": "markdown",
   "id": "4c881bd1-078e-4b5e-9590-3f45743613ce",
   "metadata": {},
   "source": [
    "## 4. Split string according to spaces"
   ]
  },
  {
   "cell_type": "code",
   "execution_count": 26,
   "id": "ea47253c-15b0-4eb7-b181-0c4b92f0b9bc",
   "metadata": {},
   "outputs": [
    {
     "name": "stdin",
     "output_type": "stream",
     "text": [
      "Enter string: w i t solapur\n"
     ]
    },
    {
     "name": "stdout",
     "output_type": "stream",
     "text": [
      "['w', 'i', 't', 'solapur']\n"
     ]
    }
   ],
   "source": [
    "str = input(\"Enter string:\")\n",
    "splited = []\n",
    "i=0\n",
    "while i<len(str):\n",
    "    word = \"\"\n",
    "    while i<len(str) and str[i]!=' ':\n",
    "        word += str[i]\n",
    "        i+=1\n",
    "    splited.append(word)\n",
    "    i+=1\n",
    "print(splited)"
   ]
  },
  {
   "cell_type": "markdown",
   "id": "7fb2bee0-0c42-4f84-93ae-d17bb7e5448b",
   "metadata": {},
   "source": [
    "## 5. Find vowels"
   ]
  },
  {
   "cell_type": "code",
   "execution_count": 29,
   "id": "38720afb-4137-4a19-82ef-37915813896b",
   "metadata": {},
   "outputs": [
    {
     "name": "stdin",
     "output_type": "stream",
     "text": [
      "Enter string: priyanka sundalam\n"
     ]
    },
    {
     "name": "stdout",
     "output_type": "stream",
     "text": [
      "Number of vowels:  6\n"
     ]
    }
   ],
   "source": [
    "str = input(\"Enter string:\")\n",
    "count = 0\n",
    "for i in range(0, len(str)):\n",
    "    if str[i] in ['a', 'e', 'i', 'o', 'u', 'A', 'E', 'I', 'O', 'U']:\n",
    "        count+=1\n",
    "print(\"Number of vowels: \", count)"
   ]
  },
  {
   "cell_type": "markdown",
   "id": "7f1352e8-1a74-494d-ab6e-fc3980da2c79",
   "metadata": {},
   "source": [
    "## 6. Count frequency of characters"
   ]
  },
  {
   "cell_type": "code",
   "execution_count": 40,
   "id": "cda9f4c7-446d-4022-9250-1a1fe21c1a72",
   "metadata": {},
   "outputs": [
    {
     "name": "stdin",
     "output_type": "stream",
     "text": [
      "Enter string: priyanka\n"
     ]
    },
    {
     "name": "stdout",
     "output_type": "stream",
     "text": [
      "p : 1\n",
      "r : 1\n",
      "i : 1\n",
      "y : 1\n",
      "a : 2\n",
      "n : 1\n",
      "k : 1\n"
     ]
    }
   ],
   "source": [
    "str = input(\"Enter string:\")\n",
    "freq = dict()\n",
    "for i in range(0, len(str)):\n",
    "    if str[i] not in freq:\n",
    "        freq.update({str[i]: 1})\n",
    "    else:\n",
    "        freq[str[i]] += 1\n",
    "        \n",
    "for i,j in freq.items():\n",
    "    print(i, \":\", j)"
   ]
  },
  {
   "cell_type": "code",
   "execution_count": null,
   "id": "2d5dd7f4-ecf8-4b26-803f-916ec2bb8e89",
   "metadata": {},
   "outputs": [],
   "source": []
  }
 ],
 "metadata": {
  "kernelspec": {
   "display_name": "Python [conda env:base] *",
   "language": "python",
   "name": "conda-base-py"
  },
  "language_info": {
   "codemirror_mode": {
    "name": "ipython",
    "version": 3
   },
   "file_extension": ".py",
   "mimetype": "text/x-python",
   "name": "python",
   "nbconvert_exporter": "python",
   "pygments_lexer": "ipython3",
   "version": "3.12.7"
  }
 },
 "nbformat": 4,
 "nbformat_minor": 5
}
