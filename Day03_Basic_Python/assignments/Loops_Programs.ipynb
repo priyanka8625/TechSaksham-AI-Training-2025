{
 "cells": [
  {
   "cell_type": "markdown",
   "id": "439ff869-7968-4270-bc61-421907c69345",
   "metadata": {},
   "source": [
    "# Loops in Python"
   ]
  },
  {
   "cell_type": "markdown",
   "id": "af8acfd2-a9f4-40f8-9187-d66a8d23c1f6",
   "metadata": {},
   "source": [
    "## 1. Check if a number is Prime"
   ]
  },
  {
   "cell_type": "code",
   "execution_count": 17,
   "id": "7a0c5d22-4502-4bca-bc6a-7acc542b962d",
   "metadata": {},
   "outputs": [
    {
     "name": "stdin",
     "output_type": "stream",
     "text": [
      "Enter prime number: 2\n"
     ]
    },
    {
     "name": "stdout",
     "output_type": "stream",
     "text": [
      "2  is PRIME\n"
     ]
    }
   ],
   "source": [
    "import math\n",
    "num = int(input(\"Enter prime number:\"))\n",
    "prime = True\n",
    "for i in range(2, int(math.sqrt(num))+1):\n",
    "    if num%i == 0:\n",
    "        prime = False\n",
    "        break\n",
    "\n",
    "if prime:\n",
    "    print(num, \" is PRIME\")\n",
    "else:\n",
    "    print(num, \" is NOT PRIME\")"
   ]
  },
  {
   "cell_type": "markdown",
   "id": "522d92b8-4b0c-48e4-9135-7712a35f0c05",
   "metadata": {},
   "source": [
    "## 2. Fibonacci series "
   ]
  },
  {
   "cell_type": "code",
   "execution_count": 28,
   "id": "2c61c69a-d9f8-4656-8b51-1ed833b8e7bf",
   "metadata": {},
   "outputs": [
    {
     "name": "stdin",
     "output_type": "stream",
     "text": [
      "Enter n to print fibonacci series: 5\n"
     ]
    },
    {
     "name": "stdout",
     "output_type": "stream",
     "text": [
      "0 1 1 2 3 "
     ]
    }
   ],
   "source": [
    "n = int(input(\"Enter n to print fibonacci series:\"))\n",
    "prev = 0\n",
    "curr = 1\n",
    "print (prev, curr, end=\" \")\n",
    "for i in range(2, n):\n",
    "    next = prev + curr\n",
    "    print(next, end=\" \")\n",
    "    prev = curr\n",
    "    curr = next"
   ]
  },
  {
   "cell_type": "markdown",
   "id": "ce906636-1adf-419c-9784-029ccc7e3978",
   "metadata": {},
   "source": [
    "## 3. Armstrong number"
   ]
  },
  {
   "cell_type": "code",
   "execution_count": 35,
   "id": "b5c41ceb-d74e-43e8-a946-d5ccd35edd15",
   "metadata": {},
   "outputs": [
    {
     "name": "stdin",
     "output_type": "stream",
     "text": [
      "Enter a number: 152\n"
     ]
    },
    {
     "name": "stdout",
     "output_type": "stream",
     "text": [
      "152  is NOT ARMSTRONG!\n"
     ]
    }
   ],
   "source": [
    "n = input(\"Enter a number:\")\n",
    "len = n.__len__()\n",
    "sum = 0\n",
    "n = int(n)\n",
    "temp = int(n)\n",
    "while temp!=0:\n",
    "    digit = temp%10\n",
    "    sum += (digit**len)\n",
    "    temp //= 10\n",
    "if sum==n:\n",
    "    print(n, \" is ARMSTRONG!\")\n",
    "else:\n",
    "    print(n, \" is NOT ARMSTRONG!\")"
   ]
  },
  {
   "cell_type": "markdown",
   "id": "a855d864-8957-4cda-b051-47aa9279b0e0",
   "metadata": {},
   "source": [
    "## 4. First n prime numbers"
   ]
  },
  {
   "cell_type": "code",
   "execution_count": 71,
   "id": "91723628-01c3-4485-9aa1-6813377f14ee",
   "metadata": {},
   "outputs": [
    {
     "name": "stdin",
     "output_type": "stream",
     "text": [
      "Enter value of n: 15\n"
     ]
    },
    {
     "name": "stdout",
     "output_type": "stream",
     "text": [
      "1\n",
      "3\n",
      "5\n",
      "7\n",
      "11\n",
      "13\n"
     ]
    }
   ],
   "source": [
    "import math\n",
    "n = int(input(\"Enter value of n:\"))\n",
    "for num in range(1, n+1):\n",
    "    if num == 2:\n",
    "        continue\n",
    "    prime = True\n",
    "    for i in range(2, int(math.sqrt(num))+1):\n",
    "        if num%i == 0:\n",
    "            prime = False\n",
    "            break\n",
    "    \n",
    "    if prime:\n",
    "        print(num)"
   ]
  },
  {
   "cell_type": "markdown",
   "id": "90c5a228-9d75-4349-aaf9-6bd62517c541",
   "metadata": {},
   "source": [
    "## 5. Ascending order of list"
   ]
  },
  {
   "cell_type": "code",
   "execution_count": 76,
   "id": "d9aea651-9464-4e2b-a6d0-bd4640247ace",
   "metadata": {},
   "outputs": [
    {
     "name": "stdin",
     "output_type": "stream",
     "text": [
      "Enter value of n: 5\n"
     ]
    },
    {
     "name": "stdout",
     "output_type": "stream",
     "text": [
      "enter numbers:\n"
     ]
    },
    {
     "name": "stdin",
     "output_type": "stream",
     "text": [
      " 3\n",
      " 2\n",
      " 4\n",
      " 5\n",
      " 1\n"
     ]
    },
    {
     "name": "stdout",
     "output_type": "stream",
     "text": [
      "Original list:  [3, 2, 4, 5, 1]\n",
      "sorted list:  [1, 2, 3, 4, 5]\n"
     ]
    }
   ],
   "source": [
    "n = int(input(\"Enter value of n:\"))\n",
    "my_list = list()\n",
    "print(\"enter numbers:\")\n",
    "for i in range(0, n):\n",
    "    my_list.append(int(input()))\n",
    "\n",
    "print(\"Original list: \", my_list)\n",
    "\n",
    "for i in range(0, n):\n",
    "    mini = my_list[i]\n",
    "    smallest = i\n",
    "    for j in range(i, n):\n",
    "        if my_list[j] < mini:\n",
    "            smallest = j\n",
    "            mini = my_list[j]\n",
    "    #place i'th smallest number at i'th index\n",
    "    my_list[i], my_list[smallest] = my_list[smallest], my_list[i]\n",
    "\n",
    "print(\"sorted list: \", my_list)"
   ]
  },
  {
   "cell_type": "markdown",
   "id": "be659d23-c55c-420b-bfea-f8945c6696fc",
   "metadata": {},
   "source": [
    "## 6. descending order"
   ]
  },
  {
   "cell_type": "code",
   "execution_count": 79,
   "id": "bc875e16-fc22-4416-b9dc-76053fedfa35",
   "metadata": {},
   "outputs": [
    {
     "name": "stdin",
     "output_type": "stream",
     "text": [
      "Enter value of n: 5\n"
     ]
    },
    {
     "name": "stdout",
     "output_type": "stream",
     "text": [
      "enter numbers:\n"
     ]
    },
    {
     "name": "stdin",
     "output_type": "stream",
     "text": [
      " 3\n",
      " 4\n",
      " 2\n",
      " 1\n",
      " 5\n"
     ]
    },
    {
     "name": "stdout",
     "output_type": "stream",
     "text": [
      "Original list:  [3, 4, 2, 1, 5]\n",
      "sorted list:  [5, 4, 3, 2, 1]\n"
     ]
    }
   ],
   "source": [
    "n = int(input(\"Enter value of n:\"))\n",
    "my_list = list()\n",
    "print(\"enter numbers:\")\n",
    "for i in range(0, n):\n",
    "    my_list.append(int(input()))\n",
    "\n",
    "print(\"Original list: \", my_list)\n",
    "\n",
    "for i in range(0, n):\n",
    "    maxi = my_list[i]\n",
    "    largest = i\n",
    "    for j in range(i, n):\n",
    "        if my_list[j] > maxi:\n",
    "            largest = j\n",
    "            maxi = my_list[j]\n",
    "    #place i'th smallest number at i'th index\n",
    "    my_list[i], my_list[largest] = my_list[largest], my_list[i]\n",
    "\n",
    "print(\"sorted list: \", my_list)"
   ]
  },
  {
   "cell_type": "markdown",
   "id": "24176884-721b-4058-a9fb-f02cc5f0b24e",
   "metadata": {},
   "source": [
    "## 7. Pattern1:"
   ]
  },
  {
   "cell_type": "code",
   "execution_count": 46,
   "id": "09601817-b0d2-40e7-80b4-45e9aa315c5a",
   "metadata": {},
   "outputs": [
    {
     "name": "stdin",
     "output_type": "stream",
     "text": [
      "Enter value of n: 4\n"
     ]
    },
    {
     "name": "stdout",
     "output_type": "stream",
     "text": [
      "   1 \n",
      "  2 3 \n",
      " 4 5 6 \n",
      "7 8 9 10 \n"
     ]
    }
   ],
   "source": [
    "#    1\n",
    "#   2 3\n",
    "#  3 4 5\n",
    "# 6 7 8 9\n",
    "\n",
    "n = int(input(\"Enter value of n:\"))\n",
    "num = 1\n",
    "for i in range(1, n+1):\n",
    "    #spaces\n",
    "    for j in range(0, n-i):\n",
    "        print(end=\" \")\n",
    "    #numbers\n",
    "    for k in range(0, i):\n",
    "        print(num, end=\" \")\n",
    "        num += 1\n",
    "    print()"
   ]
  },
  {
   "cell_type": "markdown",
   "id": "73143b90-950a-4f00-bd5e-dba695b55d0d",
   "metadata": {},
   "source": [
    "## 8. Pattern2"
   ]
  },
  {
   "cell_type": "code",
   "execution_count": 49,
   "id": "41f63d05-85da-42fb-a63e-dadfdf8312a5",
   "metadata": {},
   "outputs": [
    {
     "name": "stdin",
     "output_type": "stream",
     "text": [
      "Enter value of n: 3\n"
     ]
    },
    {
     "name": "stdout",
     "output_type": "stream",
     "text": [
      "  * \n",
      " * * \n",
      "* * * \n"
     ]
    }
   ],
   "source": [
    "#    *\n",
    "#   * *\n",
    "#  * * *\n",
    "\n",
    "n = int(input(\"Enter value of n:\"))\n",
    "for i in range(1, n+1):\n",
    "    #spaces\n",
    "    for j in range(0, n-i):\n",
    "        print(end=\" \")\n",
    "    #numbers\n",
    "    for k in range(0, i):\n",
    "        print(\"*\", end=\" \")\n",
    "    print()"
   ]
  },
  {
   "cell_type": "markdown",
   "id": "799252fb-d3ed-4243-b0a2-65020d3f9ea9",
   "metadata": {},
   "source": [
    "## 9. Pattern3"
   ]
  },
  {
   "cell_type": "code",
   "execution_count": 52,
   "id": "ffa3168b-5773-4375-be28-db9ad54d476f",
   "metadata": {},
   "outputs": [
    {
     "name": "stdin",
     "output_type": "stream",
     "text": [
      "Enter value of n: 3\n"
     ]
    },
    {
     "name": "stdout",
     "output_type": "stream",
     "text": [
      "  1 \n",
      " 2 2 \n",
      "3 3 3 \n"
     ]
    }
   ],
   "source": [
    "#   1\n",
    "#  2 2\n",
    "# 3 3 3\n",
    "\n",
    "n = int(input(\"Enter value of n:\"))\n",
    "for i in range(1, n+1):\n",
    "    #spaces\n",
    "    for j in range(0, n-i):\n",
    "        print(end=\" \")\n",
    "    #numbers\n",
    "    for k in range(0, i):\n",
    "        print(i, end=\" \")\n",
    "    print()"
   ]
  },
  {
   "cell_type": "markdown",
   "id": "707f24da-5854-4f0f-a788-76e80cfbe959",
   "metadata": {},
   "source": [
    "## 10. Pattern4"
   ]
  },
  {
   "cell_type": "code",
   "execution_count": 57,
   "id": "484a17a3-d3fb-4dce-9bcd-cf126a885054",
   "metadata": {},
   "outputs": [
    {
     "name": "stdin",
     "output_type": "stream",
     "text": [
      "Enter value of n: 5\n"
     ]
    },
    {
     "name": "stdout",
     "output_type": "stream",
     "text": [
      "5 4 3 2 1 \n",
      " 4 3 2 1 \n",
      "  3 2 1 \n",
      "   2 1 \n",
      "    1 \n"
     ]
    }
   ],
   "source": [
    "#5 4 3 2 1\n",
    "# 4 3 2 1\n",
    "#  3 2 1 \n",
    "#   2 1\n",
    "#    1\n",
    "\n",
    "n = int(input(\"Enter value of n:\"))\n",
    "for i in range(n, 0, -1):\n",
    "    #spaces\n",
    "    for j in range(0, n-i):\n",
    "        print(end=\" \")\n",
    "    #numbers\n",
    "    for k in range(i, 0, -1):\n",
    "        print(k, end=\" \")\n",
    "    print()"
   ]
  },
  {
   "cell_type": "markdown",
   "id": "8eb9595e-1210-41b0-9f4e-5eae5cd1c43f",
   "metadata": {},
   "source": [
    "## 11. Pattern5"
   ]
  },
  {
   "cell_type": "code",
   "execution_count": 64,
   "id": "5ace7d43-1989-45c8-b987-e0395483d67f",
   "metadata": {},
   "outputs": [
    {
     "name": "stdin",
     "output_type": "stream",
     "text": [
      "Enter value of n: 3\n"
     ]
    },
    {
     "name": "stdout",
     "output_type": "stream",
     "text": [
      "  * \n",
      " * * \n",
      "* * * \n",
      "* * * \n",
      " * * \n",
      "  * \n"
     ]
    }
   ],
   "source": [
    "#   *\n",
    "#  * *\n",
    "# * * *\n",
    "# * * *\n",
    "#  * *\n",
    "#   *\n",
    "\n",
    "n = int(input(\"Enter value of n:\"))\n",
    "for i in range(1, n+1):\n",
    "    #spaces\n",
    "    for j in range(0, n-i):\n",
    "        print(end=\" \")\n",
    "    #stars\n",
    "    for k in range(0, i):\n",
    "        print(\"*\", end=\" \")\n",
    "    print()  \n",
    "for i in range(n, 0, -1):\n",
    "    #spaces\n",
    "    for j in range(0, n-i):\n",
    "        print(end=\" \")\n",
    "    #stars\n",
    "    for k in range(0, i):\n",
    "        print(\"*\", end=\" \")\n",
    "    print()"
   ]
  },
  {
   "cell_type": "code",
   "execution_count": null,
   "id": "daca6210-3689-4fd3-a86f-2c456c980427",
   "metadata": {},
   "outputs": [],
   "source": []
  }
 ],
 "metadata": {
  "kernelspec": {
   "display_name": "Python [conda env:base] *",
   "language": "python",
   "name": "conda-base-py"
  },
  "language_info": {
   "codemirror_mode": {
    "name": "ipython",
    "version": 3
   },
   "file_extension": ".py",
   "mimetype": "text/x-python",
   "name": "python",
   "nbconvert_exporter": "python",
   "pygments_lexer": "ipython3",
   "version": "3.12.7"
  }
 },
 "nbformat": 4,
 "nbformat_minor": 5
}
