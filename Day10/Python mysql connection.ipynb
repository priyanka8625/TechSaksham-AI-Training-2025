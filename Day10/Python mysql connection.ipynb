{
 "cells": [
  {
   "cell_type": "code",
   "execution_count": 1,
   "id": "c872bcce-e379-467b-8485-6261253cc5bf",
   "metadata": {},
   "outputs": [
    {
     "name": "stdout",
     "output_type": "stream",
     "text": [
      "Collecting mysql-connector.python\n",
      "  Downloading mysql_connector_python-9.2.0-cp312-cp312-win_amd64.whl.metadata (6.2 kB)\n",
      "Downloading mysql_connector_python-9.2.0-cp312-cp312-win_amd64.whl (16.1 MB)\n",
      "   ---------------------------------------- 0.0/16.1 MB ? eta -:--:--\n",
      "   ---------------------------------------- 0.0/16.1 MB ? eta -:--:--\n",
      "    --------------------------------------- 0.3/16.1 MB ? eta -:--:--\n",
      "   - -------------------------------------- 0.5/16.1 MB 1.5 MB/s eta 0:00:11\n",
      "   --- ------------------------------------ 1.3/16.1 MB 2.1 MB/s eta 0:00:08\n",
      "   ----- ---------------------------------- 2.1/16.1 MB 2.5 MB/s eta 0:00:06\n",
      "   ------ --------------------------------- 2.6/16.1 MB 2.6 MB/s eta 0:00:06\n",
      "   ------ --------------------------------- 2.6/16.1 MB 2.6 MB/s eta 0:00:06\n",
      "   -------- ------------------------------- 3.4/16.1 MB 2.3 MB/s eta 0:00:06\n",
      "   ---------- ----------------------------- 4.2/16.1 MB 2.5 MB/s eta 0:00:05\n",
      "   ----------- ---------------------------- 4.7/16.1 MB 2.6 MB/s eta 0:00:05\n",
      "   ------------- -------------------------- 5.5/16.1 MB 2.6 MB/s eta 0:00:05\n",
      "   -------------- ------------------------- 6.0/16.1 MB 2.7 MB/s eta 0:00:04\n",
      "   --------------- ------------------------ 6.3/16.1 MB 2.6 MB/s eta 0:00:04\n",
      "   ---------------- ----------------------- 6.6/16.1 MB 2.5 MB/s eta 0:00:04\n",
      "   ----------------- ---------------------- 7.1/16.1 MB 2.4 MB/s eta 0:00:04\n",
      "   ------------------- -------------------- 7.9/16.1 MB 2.5 MB/s eta 0:00:04\n",
      "   -------------------- ------------------- 8.1/16.1 MB 2.4 MB/s eta 0:00:04\n",
      "   -------------------- ------------------- 8.4/16.1 MB 2.4 MB/s eta 0:00:04\n",
      "   ---------------------- ----------------- 8.9/16.1 MB 2.4 MB/s eta 0:00:04\n",
      "   ---------------------- ----------------- 9.2/16.1 MB 2.3 MB/s eta 0:00:03\n",
      "   ------------------------ --------------- 9.7/16.1 MB 2.3 MB/s eta 0:00:03\n",
      "   ------------------------ --------------- 10.0/16.1 MB 2.3 MB/s eta 0:00:03\n",
      "   ------------------------- -------------- 10.2/16.1 MB 2.3 MB/s eta 0:00:03\n",
      "   -------------------------- ------------- 10.5/16.1 MB 2.2 MB/s eta 0:00:03\n",
      "   -------------------------- ------------- 10.7/16.1 MB 2.1 MB/s eta 0:00:03\n",
      "   --------------------------- ------------ 11.0/16.1 MB 2.1 MB/s eta 0:00:03\n",
      "   ---------------------------- ----------- 11.3/16.1 MB 2.0 MB/s eta 0:00:03\n",
      "   ---------------------------- ----------- 11.3/16.1 MB 2.0 MB/s eta 0:00:03\n",
      "   ---------------------------- ----------- 11.5/16.1 MB 2.0 MB/s eta 0:00:03\n",
      "   ---------------------------- ----------- 11.5/16.1 MB 2.0 MB/s eta 0:00:03\n",
      "   ---------------------------- ----------- 11.5/16.1 MB 2.0 MB/s eta 0:00:03\n",
      "   ----------------------------- ---------- 11.8/16.1 MB 1.8 MB/s eta 0:00:03\n",
      "   ----------------------------- ---------- 12.1/16.1 MB 1.8 MB/s eta 0:00:03\n",
      "   ------------------------------ --------- 12.3/16.1 MB 1.7 MB/s eta 0:00:03\n",
      "   ------------------------------- -------- 12.6/16.1 MB 1.7 MB/s eta 0:00:03\n",
      "   ------------------------------- -------- 12.8/16.1 MB 1.7 MB/s eta 0:00:02\n",
      "   --------------------------------- ------ 13.4/16.1 MB 1.7 MB/s eta 0:00:02\n",
      "   ---------------------------------- ----- 13.9/16.1 MB 1.7 MB/s eta 0:00:02\n",
      "   ---------------------------------- ----- 13.9/16.1 MB 1.7 MB/s eta 0:00:02\n",
      "   ------------------------------------ --- 14.7/16.1 MB 1.7 MB/s eta 0:00:01\n",
      "   ------------------------------------- -- 14.9/16.1 MB 1.8 MB/s eta 0:00:01\n",
      "   -------------------------------------- - 15.5/16.1 MB 1.8 MB/s eta 0:00:01\n",
      "   ---------------------------------------  15.7/16.1 MB 1.8 MB/s eta 0:00:01\n",
      "   ---------------------------------------- 16.1/16.1 MB 1.7 MB/s eta 0:00:00\n",
      "Installing collected packages: mysql-connector.python\n",
      "Successfully installed mysql-connector.python-9.2.0\n"
     ]
    }
   ],
   "source": [
    "!pip install mysql-connector.python"
   ]
  },
  {
   "cell_type": "code",
   "execution_count": 14,
   "id": "4b1cd434-e0d6-4398-a7a4-135e5e3e516c",
   "metadata": {},
   "outputs": [
    {
     "name": "stdout",
     "output_type": "stream",
     "text": [
      "Collecting pymysql\n",
      "  Downloading PyMySQL-1.1.1-py3-none-any.whl.metadata (4.4 kB)\n",
      "Downloading PyMySQL-1.1.1-py3-none-any.whl (44 kB)\n",
      "Installing collected packages: pymysql\n",
      "Successfully installed pymysql-1.1.1\n"
     ]
    }
   ],
   "source": [
    "!pip install pymysql"
   ]
  },
  {
   "cell_type": "code",
   "execution_count": 2,
   "id": "d1d72435-a99f-4395-bcfa-69d7c549e2a6",
   "metadata": {},
   "outputs": [
    {
     "name": "stdout",
     "output_type": "stream",
     "text": [
      "<mysql.connector.connection_cext.CMySQLConnection object at 0x000001E82DE3B080>\n"
     ]
    }
   ],
   "source": [
    "import mysql.connector\n",
    "\n",
    "db = mysql.connector.connect(\n",
    "    host = \"localhost\",\n",
    "    user = \"root\",\n",
    "    password = \"root\",\n",
    "    port = 3308\n",
    ")\n",
    "\n",
    "print(db)"
   ]
  },
  {
   "cell_type": "code",
   "execution_count": 4,
   "id": "dc150048-13de-48c2-b4f4-09987cc74037",
   "metadata": {},
   "outputs": [],
   "source": [
    "dbcursor = db.cursor()\n",
    "# execute database query\n",
    "dbcursor.execute(\"Create database if not exists booklist\") "
   ]
  },
  {
   "cell_type": "code",
   "execution_count": 6,
   "id": "e74cd094-1bd2-4126-99b1-15feb779c990",
   "metadata": {},
   "outputs": [],
   "source": [
    "dbcursor.execute(\"show databases\")"
   ]
  },
  {
   "cell_type": "code",
   "execution_count": 8,
   "id": "e091e362-c246-41a7-86f0-85f6aa7108a2",
   "metadata": {},
   "outputs": [
    {
     "name": "stdout",
     "output_type": "stream",
     "text": [
      "('assignment_schema',)\n",
      "('booklist',)\n",
      "('countries',)\n",
      "('customer_orders',)\n",
      "('hr',)\n",
      "('information_schema',)\n",
      "('mysql',)\n",
      "('performance_schema',)\n",
      "('sys',)\n",
      "('temp_schema',)\n"
     ]
    }
   ],
   "source": [
    "for i in dbcursor:\n",
    "    print(i)"
   ]
  },
  {
   "cell_type": "markdown",
   "id": "f38d1cf9-2caa-4a65-b3a3-aca672467847",
   "metadata": {},
   "source": [
    "## Create table"
   ]
  },
  {
   "cell_type": "code",
   "execution_count": 10,
   "id": "d0070db0-d23d-4b1e-81d2-f341c049ae44",
   "metadata": {},
   "outputs": [],
   "source": [
    "db = mysql.connector.connect(\n",
    "    host = \"localhost\",\n",
    "    user = \"root\",\n",
    "    password = \"root\",\n",
    "    port = 3308,\n",
    "    database = 'booklist'\n",
    ")"
   ]
  },
  {
   "cell_type": "code",
   "execution_count": 12,
   "id": "8d13e948-e73b-4554-a7e6-35390a89c1e1",
   "metadata": {},
   "outputs": [
    {
     "name": "stdout",
     "output_type": "stream",
     "text": [
      "('bookdetail',)\n"
     ]
    }
   ],
   "source": [
    "dbcursor = db.cursor()\n",
    "dbcursor.execute(\"create table if not exists booklist.bookdetail \\\n",
    "(rating INT(20), book varchar(40), price decimal(16, 2))\")\n",
    "dbcursor.execute(\"show tables\")\n",
    "\n",
    "for i in dbcursor:\n",
    "    print(i)"
   ]
  },
  {
   "cell_type": "code",
   "execution_count": 20,
   "id": "c24fac7f-56c9-4bfc-a892-47440074c4fe",
   "metadata": {},
   "outputs": [
    {
     "name": "stdout",
     "output_type": "stream",
     "text": [
      "(5, 'abcd', Decimal('200.00'))\n"
     ]
    }
   ],
   "source": [
    "dbcursor.execute(\"insert into bookdetail values(5, 'abcd', 200)\")"
   ]
  },
  {
   "cell_type": "code",
   "execution_count": 24,
   "id": "d6a8c43f-13f8-453e-8e9a-782054962755",
   "metadata": {},
   "outputs": [
    {
     "name": "stdout",
     "output_type": "stream",
     "text": [
      "(5, 'abcd', Decimal('500.00'))\n"
     ]
    }
   ],
   "source": [
    "dbcursor.execute(\"select * from bookdetail\")\n",
    "for i in dbcursor:\n",
    "    print(i)"
   ]
  },
  {
   "cell_type": "code",
   "execution_count": 18,
   "id": "f214e806-f1d2-463d-9fd2-bf4738df67c7",
   "metadata": {},
   "outputs": [],
   "source": [
    "dbcursor.execute(\"delete from bookdetail where rating=5\")"
   ]
  },
  {
   "cell_type": "code",
   "execution_count": 22,
   "id": "12d8e4c4-08ec-4bda-b0fc-c8cb03dca351",
   "metadata": {},
   "outputs": [],
   "source": [
    "dbcursor.execute(\"update bookdetail set price=500 where book='abcd'\")"
   ]
  },
  {
   "cell_type": "code",
   "execution_count": null,
   "id": "d5426c84-2b65-4745-a0fc-b2404c2fd564",
   "metadata": {},
   "outputs": [],
   "source": []
  }
 ],
 "metadata": {
  "kernelspec": {
   "display_name": "Python [conda env:base] *",
   "language": "python",
   "name": "conda-base-py"
  },
  "language_info": {
   "codemirror_mode": {
    "name": "ipython",
    "version": 3
   },
   "file_extension": ".py",
   "mimetype": "text/x-python",
   "name": "python",
   "nbconvert_exporter": "python",
   "pygments_lexer": "ipython3",
   "version": "3.12.7"
  }
 },
 "nbformat": 4,
 "nbformat_minor": 5
}
