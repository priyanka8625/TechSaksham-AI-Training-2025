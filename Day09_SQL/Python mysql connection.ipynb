{
 "cells": [
  {
   "cell_type": "code",
   "execution_count": 1,
   "id": "c872bcce-e379-467b-8485-6261253cc5bf",
   "metadata": {},
   "outputs": [
    {
     "name": "stdout",
     "output_type": "stream",
     "text": [
      "Collecting mysql-connector.python\n",
      "  Downloading mysql_connector_python-9.2.0-cp312-cp312-win_amd64.whl.metadata (6.2 kB)\n",
      "Downloading mysql_connector_python-9.2.0-cp312-cp312-win_amd64.whl (16.1 MB)\n",
      "   ---------------------------------------- 0.0/16.1 MB ? eta -:--:--\n",
      "   ---------------------------------------- 0.0/16.1 MB ? eta -:--:--\n",
      "    --------------------------------------- 0.3/16.1 MB ? eta -:--:--\n",
      "   - -------------------------------------- 0.5/16.1 MB 1.5 MB/s eta 0:00:11\n",
      "   --- ------------------------------------ 1.3/16.1 MB 2.1 MB/s eta 0:00:08\n",
      "   ----- ---------------------------------- 2.1/16.1 MB 2.5 MB/s eta 0:00:06\n",
      "   ------ --------------------------------- 2.6/16.1 MB 2.6 MB/s eta 0:00:06\n",
      "   ------ --------------------------------- 2.6/16.1 MB 2.6 MB/s eta 0:00:06\n",
      "   -------- ------------------------------- 3.4/16.1 MB 2.3 MB/s eta 0:00:06\n",
      "   ---------- ----------------------------- 4.2/16.1 MB 2.5 MB/s eta 0:00:05\n",
      "   ----------- ---------------------------- 4.7/16.1 MB 2.6 MB/s eta 0:00:05\n",
      "   ------------- -------------------------- 5.5/16.1 MB 2.6 MB/s eta 0:00:05\n",
      "   -------------- ------------------------- 6.0/16.1 MB 2.7 MB/s eta 0:00:04\n",
      "   --------------- ------------------------ 6.3/16.1 MB 2.6 MB/s eta 0:00:04\n",
      "   ---------------- ----------------------- 6.6/16.1 MB 2.5 MB/s eta 0:00:04\n",
      "   ----------------- ---------------------- 7.1/16.1 MB 2.4 MB/s eta 0:00:04\n",
      "   ------------------- -------------------- 7.9/16.1 MB 2.5 MB/s eta 0:00:04\n",
      "   -------------------- ------------------- 8.1/16.1 MB 2.4 MB/s eta 0:00:04\n",
      "   -------------------- ------------------- 8.4/16.1 MB 2.4 MB/s eta 0:00:04\n",
      "   ---------------------- ----------------- 8.9/16.1 MB 2.4 MB/s eta 0:00:04\n",
      "   ---------------------- ----------------- 9.2/16.1 MB 2.3 MB/s eta 0:00:03\n",
      "   ------------------------ --------------- 9.7/16.1 MB 2.3 MB/s eta 0:00:03\n",
      "   ------------------------ --------------- 10.0/16.1 MB 2.3 MB/s eta 0:00:03\n",
      "   ------------------------- -------------- 10.2/16.1 MB 2.3 MB/s eta 0:00:03\n",
      "   -------------------------- ------------- 10.5/16.1 MB 2.2 MB/s eta 0:00:03\n",
      "   -------------------------- ------------- 10.7/16.1 MB 2.1 MB/s eta 0:00:03\n",
      "   --------------------------- ------------ 11.0/16.1 MB 2.1 MB/s eta 0:00:03\n",
      "   ---------------------------- ----------- 11.3/16.1 MB 2.0 MB/s eta 0:00:03\n",
      "   ---------------------------- ----------- 11.3/16.1 MB 2.0 MB/s eta 0:00:03\n",
      "   ---------------------------- ----------- 11.5/16.1 MB 2.0 MB/s eta 0:00:03\n",
      "   ---------------------------- ----------- 11.5/16.1 MB 2.0 MB/s eta 0:00:03\n",
      "   ---------------------------- ----------- 11.5/16.1 MB 2.0 MB/s eta 0:00:03\n",
      "   ----------------------------- ---------- 11.8/16.1 MB 1.8 MB/s eta 0:00:03\n",
      "   ----------------------------- ---------- 12.1/16.1 MB 1.8 MB/s eta 0:00:03\n",
      "   ------------------------------ --------- 12.3/16.1 MB 1.7 MB/s eta 0:00:03\n",
      "   ------------------------------- -------- 12.6/16.1 MB 1.7 MB/s eta 0:00:03\n",
      "   ------------------------------- -------- 12.8/16.1 MB 1.7 MB/s eta 0:00:02\n",
      "   --------------------------------- ------ 13.4/16.1 MB 1.7 MB/s eta 0:00:02\n",
      "   ---------------------------------- ----- 13.9/16.1 MB 1.7 MB/s eta 0:00:02\n",
      "   ---------------------------------- ----- 13.9/16.1 MB 1.7 MB/s eta 0:00:02\n",
      "   ------------------------------------ --- 14.7/16.1 MB 1.7 MB/s eta 0:00:01\n",
      "   ------------------------------------- -- 14.9/16.1 MB 1.8 MB/s eta 0:00:01\n",
      "   -------------------------------------- - 15.5/16.1 MB 1.8 MB/s eta 0:00:01\n",
      "   ---------------------------------------  15.7/16.1 MB 1.8 MB/s eta 0:00:01\n",
      "   ---------------------------------------- 16.1/16.1 MB 1.7 MB/s eta 0:00:00\n",
      "Installing collected packages: mysql-connector.python\n",
      "Successfully installed mysql-connector.python-9.2.0\n"
     ]
    }
   ],
   "source": [
    "!pip install mysql-connector.python"
   ]
  },
  {
   "cell_type": "code",
   "execution_count": 14,
   "id": "4b1cd434-e0d6-4398-a7a4-135e5e3e516c",
   "metadata": {},
   "outputs": [
    {
     "name": "stdout",
     "output_type": "stream",
     "text": [
      "Collecting pymysql\n",
      "  Downloading PyMySQL-1.1.1-py3-none-any.whl.metadata (4.4 kB)\n",
      "Downloading PyMySQL-1.1.1-py3-none-any.whl (44 kB)\n",
      "Installing collected packages: pymysql\n",
      "Successfully installed pymysql-1.1.1\n"
     ]
    }
   ],
   "source": [
    "!pip install pymysql"
   ]
  },
  {
   "cell_type": "code",
   "execution_count": 36,
   "id": "d1d72435-a99f-4395-bcfa-69d7c549e2a6",
   "metadata": {},
   "outputs": [
    {
     "name": "stdout",
     "output_type": "stream",
     "text": [
      "<mysql.connector.connection_cext.CMySQLConnection object at 0x0000026339687DD0>\n"
     ]
    }
   ],
   "source": [
    "import mysql.connector\n",
    "\n",
    "db = mysql.connector.connect(\n",
    "    host = \"localhost\",\n",
    "    user = \"root\",\n",
    "    password = \"root\",\n",
    "    port = 3308\n",
    ")\n",
    "\n",
    "print(db)"
   ]
  },
  {
   "cell_type": "code",
   "execution_count": 38,
   "id": "dc150048-13de-48c2-b4f4-09987cc74037",
   "metadata": {},
   "outputs": [],
   "source": [
    "dbcursor = db.cursor()\n",
    "# execute database query\n",
    "dbcursor.execute(\"Create database if not exists booklist\") "
   ]
  },
  {
   "cell_type": "code",
   "execution_count": 40,
   "id": "e74cd094-1bd2-4126-99b1-15feb779c990",
   "metadata": {},
   "outputs": [],
   "source": [
    "dbcursor.execute(\"show databases\")"
   ]
  },
  {
   "cell_type": "code",
   "execution_count": null,
   "id": "c24fac7f-56c9-4bfc-a892-47440074c4fe",
   "metadata": {},
   "outputs": [],
   "source": [
    "dbcursor.execute(\"create table if not exists booklist.bookdetail \\\n",
    "(rating INT(20), book varchar(40), price decimal(16, 2))\")"
   ]
  }
 ],
 "metadata": {
  "kernelspec": {
   "display_name": "Python [conda env:base] *",
   "language": "python",
   "name": "conda-base-py"
  },
  "language_info": {
   "codemirror_mode": {
    "name": "ipython",
    "version": 3
   },
   "file_extension": ".py",
   "mimetype": "text/x-python",
   "name": "python",
   "nbconvert_exporter": "python",
   "pygments_lexer": "ipython3",
   "version": "3.12.7"
  }
 },
 "nbformat": 4,
 "nbformat_minor": 5
}
