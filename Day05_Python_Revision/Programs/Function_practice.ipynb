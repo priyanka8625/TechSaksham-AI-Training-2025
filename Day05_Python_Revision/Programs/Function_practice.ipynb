{
 "cells": [
  {
   "cell_type": "markdown",
   "id": "040e8eec-c2b5-4683-876c-7281ff4f5df5",
   "metadata": {},
   "source": [
    "## Calculator"
   ]
  },
  {
   "cell_type": "code",
   "execution_count": 13,
   "id": "2714446a-7815-40ca-99dc-a95ce1f945b9",
   "metadata": {},
   "outputs": [
    {
     "name": "stdin",
     "output_type": "stream",
     "text": [
      "Enter number of elements: 3\n"
     ]
    },
    {
     "name": "stdout",
     "output_type": "stream",
     "text": [
      "Enter elements:\n"
     ]
    },
    {
     "name": "stdin",
     "output_type": "stream",
     "text": [
      " 1\n",
      " 2\n",
      " 3\n"
     ]
    },
    {
     "name": "stdout",
     "output_type": "stream",
     "text": [
      "Choose any option:\n",
      "1. ADDITION\n",
      "2. SUBTRACTION\n",
      "3. MULTIPLICATION\n",
      "4. DIVISION\n"
     ]
    },
    {
     "name": "stdin",
     "output_type": "stream",
     "text": [
      "Enter your option... 4\n"
     ]
    },
    {
     "name": "stdout",
     "output_type": "stream",
     "text": [
      "division:  0.16666666666666666\n"
     ]
    }
   ],
   "source": [
    "def add(*eles):\n",
    "    return sum(eles[0])\n",
    "\n",
    "def sub(*eles):\n",
    "    res=eles[0][0]\n",
    "    for i in range(1, len(eles[0])):\n",
    "        res -= eles[0][i]\n",
    "    return res\n",
    "\n",
    "def mul(*eles):\n",
    "    res = 1\n",
    "    for i in eles[0]:\n",
    "        res *= i\n",
    "    return res\n",
    "\n",
    "def div(*eles):\n",
    "    res=eles[0][0]\n",
    "    for i in range(1, len(eles[0])):\n",
    "        res /= eles[0][i]\n",
    "    return res\n",
    "\n",
    "n  = int(input(\"Enter number of elements:\"))\n",
    "print(\"Enter elements:\")\n",
    "eles = []\n",
    "for i in range(0, n):\n",
    "    eles.append(int(input()))\n",
    "\n",
    "print(\"Choose any option:\")\n",
    "print(\"1. ADDITION\")\n",
    "print(\"2. SUBTRACTION\")\n",
    "print(\"3. MULTIPLICATION\")\n",
    "print(\"4. DIVISION\")\n",
    "op = int(input(\"Enter your option...\"))\n",
    "\n",
    "if op==1:\n",
    "    print(\"addition: \", add(eles))\n",
    "elif op==2:\n",
    "    print(\"subtraction: \", sub(eles))\n",
    "elif op==3:\n",
    "    print(\"multiplication: \", mul(eles))\n",
    "else:\n",
    "    print(\"division: \", div(eles))"
   ]
  },
  {
   "cell_type": "markdown",
   "id": "c753aab5-667e-4312-b182-c3c4bfc4cc1d",
   "metadata": {},
   "source": [
    "## Who will pay the bill?"
   ]
  },
  {
   "cell_type": "code",
   "execution_count": 27,
   "id": "6fd70330-b52d-4e36-a288-fb6b7a49adbe",
   "metadata": {},
   "outputs": [
    {
     "name": "stdin",
     "output_type": "stream",
     "text": [
      "Enter names : iuiuwe jjd 989b\n"
     ]
    },
    {
     "name": "stdout",
     "output_type": "stream",
     "text": [
      "Person paying the bill:  iuiuwe\n"
     ]
    }
   ],
   "source": [
    "import random\n",
    "def random_choice(names):\n",
    "    n=len(names)\n",
    "    return random.randint(0, n-1)\n",
    "\n",
    "string = input(\"Enter names :\")\n",
    "names = string.split()\n",
    "selected = random_choice(names)\n",
    "print(\"Person paying the bill: \", names[selected]) "
   ]
  },
  {
   "cell_type": "markdown",
   "id": "d4bbdeb7-0453-4558-a677-f79dfe40b0a1",
   "metadata": {},
   "source": [
    "## Guess the number game"
   ]
  },
  {
   "cell_type": "code",
   "execution_count": 42,
   "id": "c68e8536-6a7e-435f-8a4b-2f9629458035",
   "metadata": {},
   "outputs": [
    {
     "name": "stdout",
     "output_type": "stream",
     "text": [
      "You have 7 chances to guess it right!!!\n",
      "Let'ssss goooo\n"
     ]
    },
    {
     "name": "stdin",
     "output_type": "stream",
     "text": [
      "Enter your guess: 50\n"
     ]
    },
    {
     "name": "stdout",
     "output_type": "stream",
     "text": [
      "Nope!! Your guess is low!!!\n"
     ]
    },
    {
     "name": "stdin",
     "output_type": "stream",
     "text": [
      "Enter your guess: 60\n"
     ]
    },
    {
     "name": "stdout",
     "output_type": "stream",
     "text": [
      "Nope!! Your guess is low!!!\n"
     ]
    },
    {
     "name": "stdin",
     "output_type": "stream",
     "text": [
      "Enter your guess: 80\n"
     ]
    },
    {
     "name": "stdout",
     "output_type": "stream",
     "text": [
      "Nope!! Your guess is high!!!\n"
     ]
    },
    {
     "name": "stdin",
     "output_type": "stream",
     "text": [
      "Enter your guess: 70\n"
     ]
    },
    {
     "name": "stdout",
     "output_type": "stream",
     "text": [
      "Nope!! Your guess is high!!!\n"
     ]
    },
    {
     "name": "stdin",
     "output_type": "stream",
     "text": [
      "Enter your guess: 65\n"
     ]
    },
    {
     "name": "stdout",
     "output_type": "stream",
     "text": [
      "Nope!! Your guess is low!!!\n"
     ]
    },
    {
     "name": "stdin",
     "output_type": "stream",
     "text": [
      "Enter your guess: 68\n"
     ]
    },
    {
     "name": "stdout",
     "output_type": "stream",
     "text": [
      "Nope!! Your guess is high!!!\n"
     ]
    },
    {
     "name": "stdin",
     "output_type": "stream",
     "text": [
      "Enter your guess: 67\n"
     ]
    },
    {
     "name": "stdout",
     "output_type": "stream",
     "text": [
      "Yesss!! You Guessed it Rightt!!!\n",
      "Good Job!!\n"
     ]
    }
   ],
   "source": [
    "def generate_number():\n",
    "    num = int(random.random() * 100)\n",
    "    return num\n",
    "\n",
    "def check_guess(num, guess):\n",
    "    if(num == guess):\n",
    "        print(\"Yesss!! You Guessed it Rightt!!!\")\n",
    "        return True\n",
    "    elif guess > num:\n",
    "        print(\"Nope!! Your guess is high!!!\")\n",
    "    else:\n",
    "        print(\"Nope!! Your guess is low!!!\")\n",
    "    return False\n",
    "\n",
    "def play_game(num):\n",
    "    count = 1\n",
    "    while(count <= 7):\n",
    "        guess = int(input(\"Enter your guess:\"))\n",
    "        if check_guess(num, guess):\n",
    "            print(\"Good Job!!\")\n",
    "            return\n",
    "        count += 1\n",
    "    print(\"Oopss! You're out of count!!!\")\n",
    "\n",
    "num = generate_number()\n",
    "print(\"You have 7 chances to guess it right!!!\")\n",
    "print(\"Let'ssss goooo\")\n",
    "play_game(num)"
   ]
  },
  {
   "cell_type": "code",
   "execution_count": null,
   "id": "1dba060d-b617-4e6e-afdf-71faf0e01a88",
   "metadata": {},
   "outputs": [],
   "source": []
  }
 ],
 "metadata": {
  "kernelspec": {
   "display_name": "Python [conda env:base] *",
   "language": "python",
   "name": "conda-base-py"
  },
  "language_info": {
   "codemirror_mode": {
    "name": "ipython",
    "version": 3
   },
   "file_extension": ".py",
   "mimetype": "text/x-python",
   "name": "python",
   "nbconvert_exporter": "python",
   "pygments_lexer": "ipython3",
   "version": "3.12.7"
  }
 },
 "nbformat": 4,
 "nbformat_minor": 5
}
