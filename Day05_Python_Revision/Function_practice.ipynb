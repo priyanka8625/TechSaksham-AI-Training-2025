{
 "cells": [
  {
   "cell_type": "markdown",
   "id": "040e8eec-c2b5-4683-876c-7281ff4f5df5",
   "metadata": {},
   "source": [
    "## Calculator"
   ]
  },
  {
   "cell_type": "code",
   "execution_count": 13,
   "id": "2714446a-7815-40ca-99dc-a95ce1f945b9",
   "metadata": {},
   "outputs": [
    {
     "name": "stdin",
     "output_type": "stream",
     "text": [
      "Enter number of elements: 3\n"
     ]
    },
    {
     "name": "stdout",
     "output_type": "stream",
     "text": [
      "Enter elements:\n"
     ]
    },
    {
     "name": "stdin",
     "output_type": "stream",
     "text": [
      " 1\n",
      " 2\n",
      " 3\n"
     ]
    },
    {
     "name": "stdout",
     "output_type": "stream",
     "text": [
      "Choose any option:\n",
      "1. ADDITION\n",
      "2. SUBTRACTION\n",
      "3. MULTIPLICATION\n",
      "4. DIVISION\n"
     ]
    },
    {
     "name": "stdin",
     "output_type": "stream",
     "text": [
      "Enter your option... 4\n"
     ]
    },
    {
     "name": "stdout",
     "output_type": "stream",
     "text": [
      "division:  0.16666666666666666\n"
     ]
    }
   ],
   "source": [
    "def add(*eles):\n",
    "    return sum(eles[0])\n",
    "\n",
    "def sub(*eles):\n",
    "    res=eles[0][0]\n",
    "    for i in range(1, len(eles[0])):\n",
    "        res -= eles[0][i]\n",
    "    return res\n",
    "\n",
    "def mul(*eles):\n",
    "    res = 1\n",
    "    for i in eles[0]:\n",
    "        res *= i\n",
    "    return res\n",
    "\n",
    "def div(*eles):\n",
    "    res=eles[0][0]\n",
    "    for i in range(1, len(eles[0])):\n",
    "        res /= eles[0][i]\n",
    "    return res\n",
    "\n",
    "n  = int(input(\"Enter number of elements:\"))\n",
    "print(\"Enter elements:\")\n",
    "eles = []\n",
    "for i in range(0, n):\n",
    "    eles.append(int(input()))\n",
    "\n",
    "print(\"Choose any option:\")\n",
    "print(\"1. ADDITION\")\n",
    "print(\"2. SUBTRACTION\")\n",
    "print(\"3. MULTIPLICATION\")\n",
    "print(\"4. DIVISION\")\n",
    "op = int(input(\"Enter your option...\"))\n",
    "\n",
    "if op==1:\n",
    "    print(\"addition: \", add(eles))\n",
    "elif op==2:\n",
    "    print(\"subtraction: \", sub(eles))\n",
    "elif op==3:\n",
    "    print(\"multiplication: \", mul(eles))\n",
    "else:\n",
    "    print(\"division: \", div(eles))"
   ]
  },
  {
   "cell_type": "markdown",
   "id": "c753aab5-667e-4312-b182-c3c4bfc4cc1d",
   "metadata": {},
   "source": [
    "## Who will pay the bill?"
   ]
  },
  {
   "cell_type": "code",
   "execution_count": 27,
   "id": "6fd70330-b52d-4e36-a288-fb6b7a49adbe",
   "metadata": {},
   "outputs": [
    {
     "name": "stdin",
     "output_type": "stream",
     "text": [
      "Enter names : iuiuwe jjd 989b\n"
     ]
    },
    {
     "name": "stdout",
     "output_type": "stream",
     "text": [
      "Person paying the bill:  iuiuwe\n"
     ]
    }
   ],
   "source": [
    "import random\n",
    "def random_choice(names):\n",
    "    n=len(names)\n",
    "    return random.randint(0, n-1)\n",
    "\n",
    "string = input(\"Enter names :\")\n",
    "names = string.split()\n",
    "selected = random_choice(names)\n",
    "print(\"Person paying the bill: \", names[selected]) "
   ]
  },
  {
   "cell_type": "markdown",
   "id": "d4bbdeb7-0453-4558-a677-f79dfe40b0a1",
   "metadata": {},
   "source": [
    "## Guess the number game"
   ]
  },
  {
   "cell_type": "code",
   "execution_count": 42,
   "id": "c68e8536-6a7e-435f-8a4b-2f9629458035",
   "metadata": {},
   "outputs": [
    {
     "name": "stdout",
     "output_type": "stream",
     "text": [
      "You have 7 chances to guess it right!!!\n",
      "Let'ssss goooo\n"
     ]
    },
    {
     "name": "stdin",
     "output_type": "stream",
     "text": [
      "Enter your guess: 50\n"
     ]
    },
    {
     "name": "stdout",
     "output_type": "stream",
     "text": [
      "Nope!! Your guess is low!!!\n"
     ]
    },
    {
     "name": "stdin",
     "output_type": "stream",
     "text": [
      "Enter your guess: 60\n"
     ]
    },
    {
     "name": "stdout",
     "output_type": "stream",
     "text": [
      "Nope!! Your guess is low!!!\n"
     ]
    },
    {
     "name": "stdin",
     "output_type": "stream",
     "text": [
      "Enter your guess: 80\n"
     ]
    },
    {
     "name": "stdout",
     "output_type": "stream",
     "text": [
      "Nope!! Your guess is high!!!\n"
     ]
    },
    {
     "name": "stdin",
     "output_type": "stream",
     "text": [
      "Enter your guess: 70\n"
     ]
    },
    {
     "name": "stdout",
     "output_type": "stream",
     "text": [
      "Nope!! Your guess is high!!!\n"
     ]
    },
    {
     "name": "stdin",
     "output_type": "stream",
     "text": [
      "Enter your guess: 65\n"
     ]
    },
    {
     "name": "stdout",
     "output_type": "stream",
     "text": [
      "Nope!! Your guess is low!!!\n"
     ]
    },
    {
     "name": "stdin",
     "output_type": "stream",
     "text": [
      "Enter your guess: 68\n"
     ]
    },
    {
     "name": "stdout",
     "output_type": "stream",
     "text": [
      "Nope!! Your guess is high!!!\n"
     ]
    },
    {
     "name": "stdin",
     "output_type": "stream",
     "text": [
      "Enter your guess: 67\n"
     ]
    },
    {
     "name": "stdout",
     "output_type": "stream",
     "text": [
      "Yesss!! You Guessed it Rightt!!!\n",
      "Good Job!!\n"
     ]
    }
   ],
   "source": [
    "def generate_number():\n",
    "    num = int(random.random() * 100)\n",
    "    return num\n",
    "\n",
    "def check_guess(num, guess):\n",
    "    if(num == guess):\n",
    "        print(\"Yesss!! You Guessed it Rightt!!!\")\n",
    "        return True\n",
    "    elif guess > num:\n",
    "        print(\"Nope!! Your guess is high!!!\")\n",
    "    else:\n",
    "        print(\"Nope!! Your guess is low!!!\")\n",
    "    return False\n",
    "\n",
    "def play_game(num):\n",
    "    count = 1\n",
    "    while(count <= 7):\n",
    "        guess = int(input(\"Enter your guess:\"))\n",
    "        if check_guess(num, guess):\n",
    "            print(\"Good Job!!\")\n",
    "            return\n",
    "        count += 1\n",
    "    print(\"Oopss! You're out of count!!!\")\n",
    "\n",
    "num = generate_number()\n",
    "print(\"You have 7 chances to guess it right!!!\")\n",
    "print(\"Let'ssss goooo\")\n",
    "play_game(num)"
   ]
  },
  {
   "cell_type": "markdown",
   "id": "c2a5b80a-f66c-43d7-94ea-c8232cd3e708",
   "metadata": {},
   "source": [
    "## Password checker"
   ]
  },
  {
   "cell_type": "code",
   "execution_count": 34,
   "id": "1fa137cf-cfc9-4811-8bd5-6043fc2e4588",
   "metadata": {},
   "outputs": [
    {
     "name": "stdin",
     "output_type": "stream",
     "text": [
      "Enter password: puighjjj\n"
     ]
    },
    {
     "name": "stdout",
     "output_type": "stream",
     "text": [
      "Password must contain atleast one, Upper case letter, Digit, Special char, "
     ]
    }
   ],
   "source": [
    "def check_pass(password):\n",
    "    n = len(password)\n",
    "    special_chars = set(\"!@#$%^&*()_-+=~`\")\n",
    "    if not(n>=8 and n<=16):\n",
    "        print(\"Password must be between 8 to 16 characters!\")\n",
    "        return\n",
    "    up, low, digit, special=False, False, False, False\n",
    "    for i in password:\n",
    "        if i.isupper():\n",
    "            up=True\n",
    "        elif i.islower():\n",
    "            low = True\n",
    "        elif i.isdigit():\n",
    "            digit = True\n",
    "        elif i in special_chars:\n",
    "            special = True\n",
    "\n",
    "    if up and low and digit and special:\n",
    "        print(\"Password is STRONG!!\")\n",
    "    else:\n",
    "        print(\"Password must contain atleast one,\", end=\" \")\n",
    "        if not up:\n",
    "            print(\"Upper case letter,\", end=\" \")\n",
    "        if not low:\n",
    "            print(\"Lower case letter,\", end=\" \")\n",
    "        if not digit:\n",
    "            print(\"Digit,\", end=\" \")\n",
    "        if not special:\n",
    "            print(\"Special char,\", end=\" \")\n",
    "\n",
    "password = input(\"Enter password:\")\n",
    "check_pass(password)"
   ]
  },
  {
   "cell_type": "markdown",
   "id": "ba9044a9-5a4e-4e90-89d0-12793a7a6dd3",
   "metadata": {},
   "source": [
    "## Without duplicates sum"
   ]
  },
  {
   "cell_type": "code",
   "execution_count": 43,
   "id": "c5a2f3c4-f7e0-4252-b6a7-2e5299e288cf",
   "metadata": {},
   "outputs": [
    {
     "name": "stdin",
     "output_type": "stream",
     "text": [
      "Enter number of elements: 5\n"
     ]
    },
    {
     "name": "stdout",
     "output_type": "stream",
     "text": [
      "Enter elements:\n"
     ]
    },
    {
     "name": "stdin",
     "output_type": "stream",
     "text": [
      " 4\n",
      " 4\n",
      " 5\n",
      " 6\n",
      " 6\n"
     ]
    },
    {
     "name": "stdout",
     "output_type": "stream",
     "text": [
      "Sum without duplicates:  5\n"
     ]
    }
   ],
   "source": [
    "def dup_sum(my_list):\n",
    "    dict = {}\n",
    "    for i in my_list:\n",
    "        if i in dict:\n",
    "            dict[i] += dict[i] + 1\n",
    "        else:\n",
    "            dict.update({i:1})\n",
    "    sum=0\n",
    "    for i, j in dict.items():\n",
    "        if j==1:\n",
    "            sum += i\n",
    "    return sum\n",
    "\n",
    "n  = int(input(\"Enter number of elements:\"))\n",
    "print(\"Enter elements:\")\n",
    "eles = []\n",
    "for i in range(0, n):\n",
    "    eles.append(int(input()))\n",
    "print(\"Sum without duplicates: \", dup_sum(eles))"
   ]
  },
  {
   "cell_type": "markdown",
   "id": "5f13bb3c-a2f0-47e8-85da-51ad86826a02",
   "metadata": {},
   "source": [
    "## Print ocuurances of the given character in a given string"
   ]
  },
  {
   "cell_type": "code",
   "execution_count": 48,
   "id": "bf6f539d-f4c9-4494-aaef-af9226c43bf3",
   "metadata": {},
   "outputs": [
    {
     "name": "stdin",
     "output_type": "stream",
     "text": [
      "Enter string: Priyanka\n",
      "Enter character to count: P\n"
     ]
    },
    {
     "name": "stdout",
     "output_type": "stream",
     "text": [
      "Count of  P  is :  1\n"
     ]
    }
   ],
   "source": [
    "def count(string , char):\n",
    "    cnt = 0\n",
    "    for i in string:\n",
    "        if i==char:\n",
    "            cnt+=1\n",
    "    return cnt\n",
    "string = input(\"Enter string:\")\n",
    "char = input(\"Enter character to count:\")[0]\n",
    "print(\"Count of \", char, \" is : \", count(string, char))"
   ]
  },
  {
   "cell_type": "markdown",
   "id": "6f05896d-5a3b-4f6d-8a89-17ed3680d192",
   "metadata": {},
   "source": [
    "## FizzBuzz"
   ]
  },
  {
   "cell_type": "code",
   "execution_count": 55,
   "id": "139fa301-7458-4adc-8267-72db87f2e4c0",
   "metadata": {},
   "outputs": [
    {
     "name": "stdin",
     "output_type": "stream",
     "text": [
      "Enter number: 15\n"
     ]
    },
    {
     "name": "stdout",
     "output_type": "stream",
     "text": [
      "FizzBuzz\n"
     ]
    }
   ],
   "source": [
    "def fizzbuzz(num):\n",
    "    if num%3==0 and num%5==0:\n",
    "        print(\"FizzBuzz\")\n",
    "    elif num%3==0:\n",
    "        print(\"Fizz\")\n",
    "    elif num%5==0:\n",
    "        print(\"Buzz\")\n",
    "\n",
    "n = int(input(\"Enter number:\"))\n",
    "fizzbuzz(n)"
   ]
  },
  {
   "cell_type": "markdown",
   "id": "d414d196-d979-4d90-9db2-9ff251a11a75",
   "metadata": {},
   "source": [
    "## Random password generator"
   ]
  },
  {
   "cell_type": "code",
   "execution_count": 74,
   "id": "4ad60a15-13bc-4146-820d-21ccb496d9b5",
   "metadata": {},
   "outputs": [
    {
     "name": "stdin",
     "output_type": "stream",
     "text": [
      "Enter length of password to be generated: 6\n"
     ]
    },
    {
     "name": "stdout",
     "output_type": "stream",
     "text": [
      "Password generated:  None\n"
     ]
    }
   ],
   "source": [
    "import random \n",
    "def generate_random(length):\n",
    "    up = tuple(set(\"ABCDEFGHIJKLMNOPQRSTUVWXYZ\"))\n",
    "    low = tuple(set(\"abcdefghijklmnopqrstuvwxyz\"))\n",
    "    digit = tuple(set(\"0123456789\"))\n",
    "    specials = tuple(set(\"!@#$%^&*()_-+=\"))\n",
    "    password = \"\"\n",
    "    #we want atleast one up, low, digit and specails to be there in the password\n",
    "    password = random.choice(up) + random.choice(low) + random.choice(digit) + random.choice(specials)\n",
    "    #now generate remaining characters of length\n",
    "    length -= 4\n",
    "    characters = up+low+digit+specials\n",
    "    password += ''.join(random.choice(characters) for _ in range(length))\n",
    "    #shuffle password characters \n",
    "    password = list(set(password))\n",
    "    random.shuffle(password)\n",
    "    password = ''.join(char for char in pa\n",
    "    return password\n",
    "\n",
    "n = int(input(\"Enter length of password to be generated:\"))\n",
    "print(\"Password generated: \", generate_random(n))"
   ]
  },
  {
   "cell_type": "code",
   "execution_count": null,
   "id": "322e11a0-0ed0-4fca-a16b-f03f6fa65d7c",
   "metadata": {},
   "outputs": [],
   "source": []
  }
 ],
 "metadata": {
  "kernelspec": {
   "display_name": "Python [conda env:base] *",
   "language": "python",
   "name": "conda-base-py"
  },
  "language_info": {
   "codemirror_mode": {
    "name": "ipython",
    "version": 3
   },
   "file_extension": ".py",
   "mimetype": "text/x-python",
   "name": "python",
   "nbconvert_exporter": "python",
   "pygments_lexer": "ipython3",
   "version": "3.12.7"
  }
 },
 "nbformat": 4,
 "nbformat_minor": 5
}
