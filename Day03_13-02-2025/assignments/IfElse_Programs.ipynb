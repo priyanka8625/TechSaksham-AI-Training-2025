{
 "cells": [
  {
   "cell_type": "markdown",
   "id": "027b2b9e-d3ad-4f87-aeaa-47b916cd490d",
   "metadata": {},
   "source": [
    "# Basic Python Programs"
   ]
  },
  {
   "cell_type": "markdown",
   "id": "962d893d-c0da-452b-8a48-edaf439a0976",
   "metadata": {},
   "source": [
    "## 1. Greatest among 3 numbers"
   ]
  },
  {
   "cell_type": "code",
   "execution_count": 5,
   "id": "14fa1d6e-10d5-4059-903b-51bde330dfd4",
   "metadata": {},
   "outputs": [
    {
     "name": "stdin",
     "output_type": "stream",
     "text": [
      "Enter first number: 10\n",
      "Enter second number: 20\n",
      "Enter third number: 30\n"
     ]
    },
    {
     "name": "stdout",
     "output_type": "stream",
     "text": [
      "30  is the largest\n"
     ]
    }
   ],
   "source": [
    "a = input(\"Enter first number:\") \n",
    "b = input(\"Enter second number:\")\n",
    "c = input(\"Enter third number:\")\n",
    "if a>b and a>c:\n",
    "    print(a,\" is the largest\")\n",
    "elif b>a and b>c:\n",
    "    print(b,\" is the largest\")\n",
    "else:\n",
    "    print(c,\" is the largest\")"
   ]
  },
  {
   "cell_type": "markdown",
   "id": "7f50b4b5-26ae-4cb2-9ffb-e3c36bba95d2",
   "metadata": {},
   "source": [
    "## 2. Calculate Electricity bill"
   ]
  },
  {
   "cell_type": "code",
   "execution_count": 10,
   "id": "3644f55c-626d-418e-aa65-be24da2d0103",
   "metadata": {},
   "outputs": [
    {
     "name": "stdout",
     "output_type": "stream",
     "text": [
      "43600\n"
     ]
    }
   ],
   "source": [
    "units = 3550\n",
    "total_bill = 0\n",
    "units -= 200;\n",
    "# next 300 units - 8rs per unit\n",
    "units -= 300\n",
    "total_bill += (300*8)\n",
    "#next 500 units - 11rs per unit\n",
    "units -= 500\n",
    "total_bill += (500*11)\n",
    "#next onwards - 14rs per unit\n",
    "total_bill += (units*14)\n",
    "#print bill\n",
    "print(total_bill)"
   ]
  },
  {
   "cell_type": "markdown",
   "id": "af41c59d-f1d1-4551-8b32-2d8263d35e26",
   "metadata": {},
   "source": [
    "## 3. Income tax calculation"
   ]
  },
  {
   "cell_type": "code",
   "execution_count": 17,
   "id": "09d6dcb6-45c7-4c6b-b1b7-ca2d331aa8cd",
   "metadata": {},
   "outputs": [
    {
     "name": "stdin",
     "output_type": "stream",
     "text": [
      "Enter your income: 4500000\n",
      "Enter your savings: 150000\n"
     ]
    },
    {
     "name": "stdout",
     "output_type": "stream",
     "text": [
      "Total tax to be paid is :  985000.0\n"
     ]
    }
   ],
   "source": [
    "income = int(input(\"Enter your income:\"))\n",
    "savings = int(input(\"Enter your savings:\"))\n",
    "payable = 0\n",
    "if(savings <= 200000):\n",
    "    income -= savings\n",
    "else:\n",
    "    income -= 200000\n",
    "\n",
    "payable = 0\n",
    "if income > 1000000 and income <=1200000:\n",
    "    #10% tax\n",
    "    payable += (income*0.1)\n",
    "if income > 1200000 and income<=3000000:\n",
    "    #20% tax\n",
    "    payable += (1000000*0.1) + ((income-1000000)*0.2)\n",
    "if income > 3000000:\n",
    "    #30% tax\n",
    "    payable += (1000000*0.1) + (1200000*0.2) + ((income-2200000)*0.3)\n",
    "\n",
    "print(\"Total tax to be paid is : \", payable)"
   ]
  },
  {
   "cell_type": "markdown",
   "id": "c4980b90-9e62-4752-93eb-c80c815637a4",
   "metadata": {},
   "source": [
    "## 3. Calculate the interest amount "
   ]
  },
  {
   "cell_type": "code",
   "execution_count": 20,
   "id": "6bc0ea48-961b-4465-bf61-f9fabfd58aea",
   "metadata": {},
   "outputs": [
    {
     "name": "stdin",
     "output_type": "stream",
     "text": [
      "enter amount: 6500000\n"
     ]
    },
    {
     "name": "stdout",
     "output_type": "stream",
     "text": [
      "Total interest gained: 1045000.0\n"
     ]
    }
   ],
   "source": [
    "# 6500000 - 1000000*10% 1500000*15% rem*18%\n",
    "amount = int(input(\"enter amount:\"))\n",
    "payable = 0\n",
    "if amount>=1 and amount<=1000000:\n",
    "    payable = (amount*0.1)\n",
    "if amount>1000000 and amount<=1500000:\n",
    "    payable = (1000000*0.1) + ((amount-1000000)*15/100)\n",
    "if amount>1500000:\n",
    "    payable = (1000000*0.1) + (1500000*15/100) + ((amount-2500000)*18/100)\n",
    "\n",
    "print(\"Total interest gained:\",payable)"
   ]
  },
  {
   "cell_type": "code",
   "execution_count": null,
   "id": "c4830150-f2d8-4644-a615-8c40edbc5dbc",
   "metadata": {},
   "outputs": [],
   "source": []
  }
 ],
 "metadata": {
  "kernelspec": {
   "display_name": "Python [conda env:base] *",
   "language": "python",
   "name": "conda-base-py"
  },
  "language_info": {
   "codemirror_mode": {
    "name": "ipython",
    "version": 3
   },
   "file_extension": ".py",
   "mimetype": "text/x-python",
   "name": "python",
   "nbconvert_exporter": "python",
   "pygments_lexer": "ipython3",
   "version": "3.12.7"
  }
 },
 "nbformat": 4,
 "nbformat_minor": 5
}
